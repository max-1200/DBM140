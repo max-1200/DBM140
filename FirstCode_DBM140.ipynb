{
 "cells": [
  {
   "cell_type": "code",
   "execution_count": 14,
   "metadata": {},
   "outputs": [],
   "source": [
    "import numpy as np\n",
    "from tensorflow import keras\n",
    "from tensorflow.keras import layers\n"
   ]
  },
  {
   "cell_type": "code",
   "execution_count": 26,
   "metadata": {},
   "outputs": [],
   "source": [
    "from py_isear.isear_loader import IsearLoader\n",
    "attributes = ['EMOT','SIT']\n",
    "target = ['TROPHO','TEMPER']\n",
    "loader = IsearLoader(attributes, target, True)\n",
    "data = loader.load_isear('isear.csv')\n",
    "\n",
    "#Hide it for now or the github page always takes forever to browse ;)\n",
    "#data.get_data() # returns attributes\n",
    "#data.get_target() # returns target\n",
    "#data.get_freetext_content() # returns the text content of the database"
   ]
  },
  {
   "cell_type": "code",
   "execution_count": 15,
   "metadata": {},
   "outputs": [
    {
     "name": "stdout",
     "output_type": "stream",
     "text": [
      "Epoch 1/10\n",
      "1/1 - 3s - loss: 1.0973 - accuracy: 0.3333 - 3s/epoch - 3s/step\n",
      "Epoch 2/10\n",
      "1/1 - 0s - loss: 1.0963 - accuracy: 0.3333 - 11ms/epoch - 11ms/step\n",
      "Epoch 3/10\n",
      "1/1 - 0s - loss: 1.0951 - accuracy: 0.3333 - 16ms/epoch - 16ms/step\n",
      "Epoch 4/10\n",
      "1/1 - 0s - loss: 1.0939 - accuracy: 0.3333 - 13ms/epoch - 13ms/step\n",
      "Epoch 5/10\n",
      "1/1 - 0s - loss: 1.0927 - accuracy: 0.6667 - 12ms/epoch - 12ms/step\n",
      "Epoch 6/10\n",
      "1/1 - 0s - loss: 1.0913 - accuracy: 0.6667 - 13ms/epoch - 13ms/step\n",
      "Epoch 7/10\n",
      "1/1 - 0s - loss: 1.0899 - accuracy: 0.6667 - 14ms/epoch - 14ms/step\n",
      "Epoch 8/10\n",
      "1/1 - 0s - loss: 1.0883 - accuracy: 0.6667 - 14ms/epoch - 14ms/step\n",
      "Epoch 9/10\n",
      "1/1 - 0s - loss: 1.0866 - accuracy: 0.6667 - 14ms/epoch - 14ms/step\n",
      "Epoch 10/10\n",
      "1/1 - 0s - loss: 1.0846 - accuracy: 0.6667 - 11ms/epoch - 11ms/step\n",
      "1/1 [==============================] - 1s 522ms/step\n",
      "Predicted label: 0\n"
     ]
    }
   ],
   "source": [
    "import tensorflow as tf\n",
    "from tensorflow.keras.models import Sequential\n",
    "from tensorflow.keras.layers import Embedding, LSTM, Dense\n",
    "from tensorflow.keras.preprocessing.text import Tokenizer\n",
    "from tensorflow.keras.preprocessing.sequence import pad_sequences\n",
    "\n",
    "# Sample training data\n",
    "texts = [\"This is a positive text.\", \"Negative sentiment here.\", \"I feel neutral about this.\"]\n",
    "labels = [1, 0, 2]  # 1 for positive, 0 for negative, 2 for neutral\n",
    "\n",
    "# Tokenize and pad the text data\n",
    "tokenizer = Tokenizer(num_words=1000, oov_token=\"<OOV>\")\n",
    "tokenizer.fit_on_texts(texts)\n",
    "sequences = tokenizer.texts_to_sequences(texts)\n",
    "sequences = pad_sequences(sequences, maxlen=10, padding='post', truncating='post')\n",
    "input_data_list = sequences.tolist()\n",
    "\n",
    "\n",
    "# Build the LSTM model\n",
    "model = Sequential()\n",
    "model.add(Embedding(input_dim=1000, output_dim=16, input_length=10))\n",
    "model.add(LSTM(32))\n",
    "model.add(Dense(3, activation='softmax'))  # Assuming you have 3 classes (positive, negative, neutral)\n",
    "\n",
    "# Compile the model\n",
    "model.compile(loss='sparse_categorical_crossentropy', optimizer='adam', metrics=['accuracy'])\n",
    "\n",
    "# Train the model\n",
    "model.fit(input_data_list, labels, epochs=10, verbose=2)\n",
    "\n",
    "# Now, you can use the trained model to predict labels for new input text\n",
    "new_text = [\"I like this product.\"]\n",
    "new_sequence = tokenizer.texts_to_sequences(new_text)\n",
    "new_sequence = pad_sequences(new_sequence, maxlen=10, padding='post', truncating='post')\n",
    "predictions = model.predict(new_sequence)\n",
    "\n",
    "# Get the predicted label (argmax of the softmax output)\n",
    "predicted_label = predictions.argmax()\n",
    "print(f\"Predicted label: {predicted_label}\")"
   ]
  }
 ],
 "metadata": {
  "kernelspec": {
   "display_name": "base",
   "language": "python",
   "name": "python3"
  },
  "language_info": {
   "codemirror_mode": {
    "name": "ipython",
    "version": 3
   },
   "file_extension": ".py",
   "mimetype": "text/x-python",
   "name": "python",
   "nbconvert_exporter": "python",
   "pygments_lexer": "ipython3",
   "version": "3.10.6"
  },
  "orig_nbformat": 4
 },
 "nbformat": 4,
 "nbformat_minor": 2
}
