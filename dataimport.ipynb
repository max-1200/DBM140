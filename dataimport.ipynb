{
 "cells": [
  {
   "cell_type": "code",
   "execution_count": 168,
   "metadata": {},
   "outputs": [],
   "source": [
    "import numpy as np\n",
    "import pandas as pd\n",
    "import glob  # Import glob for file path matching\n",
    "import missingno as msg\n",
    "import matplotlib.pyplot as plt\n",
    "import seaborn as sns\n",
    "from scipy import stats"
   ]
  },
  {
   "cell_type": "code",
   "execution_count": 169,
   "metadata": {},
   "outputs": [
    {
     "name": "stdout",
     "output_type": "stream",
     "text": [
      "List contains 7667 elements.\n",
      "['ID|CITY|COUN|SUBJ|SEX|AGE|RELI|PRAC|FOCC|MOCC|FIEL|EMOT|WHEN|LONG|INTS|ERGO|TROPHO|TEMPER|EXPRES|MOVE|EXP1|EXP2|EXP10|PARAL|CON|EXPC|PLEA|PLAN|FAIR|CAUS|COPING|MORL|SELF|RELA|VERBAL|NEUTRO|Field1|Field3|Field2|MYKEY|SIT|STATE|', '11001|1|1|1|1|33|1|2|6|1|2|1|4|4|3|0|0|1|1|0|1|0|0|0|1|2|1|1|1|4|4|2|3|3|2|0|joy|4|3|0110011|During the period of falling in love, each time that we met and 谩 especially when we had not met for a long time.|1|', '11001|1|1|1|1|33|1|2|6|1|2|2|4|3|2|2|0|0|1|0|0|0|0|2|1|1|3|0|2|2|1|3|2|2|0|0|fear|3|2|0110012|When I was involved in a traffic accident.|1|', '11001|1|1|1|1|33|1|2|6|1|2|3|4|1|3|0|0|0|2|0|0|0|0|1|1|1|3|3|0|3|1|2|2|1|0|0|anger|1|3|0110013|When I was driving home after  several days of hard work, there 谩 was a motorist ahead of me who was driving at 50 km/hour and 谩 refused, despite his low speeed to let me overtake.|1|', '11001|1|1|1|1|33|1|2|6|1|2|4|4|4|4|1|1|0|1|0|0|1|0|1|2|1|3|3|3|3|5|0|1|1|0|2|sadness|4|4|0110014|When I lost the person who meant the most to me. |1|', \"11001|1|1|1|1|33|1|2|6|1|2|5|4|4|4|3|0|0|0|0|0|0|0|1|1|1|3|0|0|4|1|0|0|2|0|0|disgust|4|4|0110015|The time I knocked a deer down - the sight of the animal's 谩 injuries and helplessness.  The realization that the animal was 谩 so badly hurt that it had to be put down, and when the animal 谩 screamed at the moment of death.|1|\", '11001|1|1|1|1|33|1|2|6|1|2|6|4|4|3|0|0|0|0|0|0|0|0|0|2|1|3|0|1|1|2|3|1|2|0|0|shame|4|3|0110016|When I did not speak the truth.|1|', '11001|1|1|1|1|33|1|2|6|1|2|7|1|3|1|0|0|0|0|0|0|0|0|0|1|1|3|2|1|1|5|3|1|0|0|0|guilt|3|1|0110017|When I caused problems for somebody because he could not keep the 谩 appointed time and this led to various consequences.|1|', '11002|1|1|2|2|23|0|0|7|5|2|1|3|2|2|0|0|1|3|1|1|0|0|2|1|1|1|1|0|0|4|0|3|0|0|0|joy|2|2|0110021|When I got a letter offering me the Summer job that I had applied 谩 for.  |1|', '11002|1|1|2|2|23|0|0|7|5|2|2|4|3|3|2|0|1|0|1|0|0|0|0|3|2|3|0|0|0|3|0|2|0|0|0|fear|3|3|0110022|When I was going home alone one night in Paris and a man came up 谩 behind me and asked me if I was not afraid to be out alone so 谩 late at night.|1|', '11002|1|1|2|2|23|0|0|7|5|2|3|3|3|4|2|0|0|2|0|0|0|1|2|1|1|2|3|0|2|1|3|2|1|3|0|anger|3|4|0110023|When I was talking to HIM at a party for the first time in a long while and a friend came and interrupted us and HE left.|1|', \"11002|1|1|2|2|23|0|0|7|5|2|4|3|4|4|0|2|0|1|0|0|0|0|0|3|2|3|3|3|2|3|3|1|1|0|2|sadness|4|4|0110024|When my friends did not ask me to go to a New Year's party 谩 with them.|1|\", '11002|1|1|2|2|23|0|0|7|5|2|5|4|2|1|0|0|0|0|0|0|0|0|0|1|3|3|0|0|0|4|0|0|0|0|0|disgust|2|1|0110025|When I saw all the very drunk kids (13-14 years old) in town on 谩 Walpurgis night.|1|', '11002|1|1|2|2|23|0|0|7|5|2|6|1|1|2|3|0|2|2|1|1|0|0|0|3|3|3|2|1|1|2|0|1|2|0|0|shame|1|2|0110026|When I could not remember what to say about a presentation task 谩 at an accounts meeting.|1|', '11002|1|1|2|2|23|0|0|7|5|2|7|2|2|2|0|0|0|0|0|0|0|0|0|0|3|3|0|0|0|4|3|0|2|0|0|guilt|2|2|0110027|When my uncle and my neighbour came home under police escort.|1|', '11003|1|1|3|2|22|8|2|4|6|2|1|1|3|3|0|0|2|1|1|1|0|0|2|1|0|1|1|0|0|5|1|3|3|3|0|joy|3|3|0110031|[ On days when I feel close to my partner and other friends.  谩 When I feel at peace with myself and also experience a close 谩 contact with people whom I regard greatly.]|1|', '11003|1|1|3|2|22|8|2|4|6|2|2|1|2|2|1|2|2|1|1|0|0|0|0|2|2|3|0|0|1|1|0|1|0|0|2|fear|2|2|0110032|Every time I imagine that someone I love or I could contact a 谩 serious illness, even death.|1|', '11003|1|1|3|2|22|8|2|4|6|2|3|3|4|4|4|1|0|2|0|0|1|0|2|2|1|3|3|3|2|1|0|1|1|2|2|anger|4|4|0110033|When I had been obviously unjustly treated and had no possibility 谩 of elucidating this.|1|', '11003|1|1|3|2|22|8|2|4|6|2|4|2|3|3|0|0|0|1|1|0|0|0|0|2|2|3|0|1|1|5|1|3|0|1|0|sadness|3|3|0110034|When I think about the short time that we live and relate it to 谩 the periods of my life when I think that I did not use this 谩 short time.|1|', '11003|1|1|3|2|22|8|2|4|6|2|5|2|4|4|3|0|1|2|1|0|0|0|2|2|3|3|3|0|0|1|3|3|1|2|0|disgust|4|4|0110035|At a gathering I found myself involuntarily sitting next to two 谩 people who expressed opinions that I considered very low and 谩 discriminating.|1|', '11003|1|1|3|2|22|8|2|4|6|2|6|1|3|2|2|1|0|2|0|0|1|0|2|2|2|3|3|0|1|5|3|1|1|3|2|shame|3|2|0110036|When I realized that I was directing the feelings of discontent 谩 with myself at my partner and this way was trying to put the blame 谩 on him instead of sorting out my own feeliings.|1|', '11003|1|1|3|2|22|8|2|4|6|2|7|1|1|2|0|0|0|2|1|0|0|0|0|2|0|3|0|0|1|5|2|1|1|0|0|guilt|1|2|0110037|I feel guilty when when I realize that I consider material things 谩 more important than caring for my relatives.  I feel very 谩 self-centered.|1|', \"11004|1|1|4|1|23|8|2|6|4|2|1|1|3|3|0|0|1|1|0|1|0|0|0|1|2|1|1|0|2|4|1|3|3|3|0|joy|3|3|0110041|After my girlfriend had taken her exam we went to her parent's 谩 place.|1|\", '11004|1|1|4|1|23|8|2|6|4|2|2|4|4|4|0|0|0|0|1|0|0|0|0|3|3|3|1|1|1|3|0|2|0|0|0|fear|4|4|0110042|When, for the first time I realized the meaning of death.|1|', '11004|1|1|4|1|23|8|2|6|4|2|3|2|1|4|2|0|0|1|0|0|0|0|1|1|3|1|2|3|3|4|3|3|1|0|0|anger|1|4|0110043|When a car is overtaking another and I am forced to drive off the 谩 road.|1|', '11004|1|1|4|1|23|8|2|6|4|2|4|1|3|2|0|1|0|0|1|0|0|0|0|2|2|3|3|0|1|5|0|1|0|0|1|sadness|3|2|0110044|When I recently thought about the hard work it takes to study, and  谩 how one wants to try something else.  When I read a theoretical 谩 book in English that I did not understand.|1|', '11004|1|1|4|1|23|8|2|6|4|2|5|3|1|2|0|1|0|0|0|0|0|0|0|1|1|3|0|0|3|4|0|2|0|1|1|disgust|1|2|0110045|When I found a bristle in the liver paste tube.|1|', '11004|1|1|4|1|23|8|2|6|4|2|6|1|1|1|0|0|0|0|1|0|0|0|0|2|1|3|2|3|1|5|1|2|2|0|0|shame|1|1|0110046|When I was tired and unmotivated, I shouted at my girlfriend and 谩 and brought up negative sides of her character which are actually 谩 not so important.|1|', '11004|1|1|4|1|23|8|2|6|4|2|7|1|2|2|0|0|0|0|1|0|0|0|0|3|2|3|1|2|1|1|3|1|0|0|0|guilt|2|2|0110047|When I think that I do not study enough.  After the weekend I 谩 think that I should have been able to have accomplished 谩 something during that time.|1|', '11005|1|1|5|2|22|1|1|7|6|2|1|3|3|3|1|0|0|3|1|1|0|0|1|1|1|1|1|1|1|4|1|3|2|3|0|joy|3|3|0110051|When I pass an examination which I did not think I did well.|1|', '11005|1|1|5|2|22|1|1|7|6|2|2|3|1|2|1|0|2|1|0|0|0|0|1|1|2|3|2|2|4|3|0|2|2|0|0|fear|1|2|0110052|When one has arranged to meet someone and that person arrives 谩 late, in the meantime one starts thinking about all that could 谩 have gone wrong e.g a traffic accident.|1|', '11005|1|1|5|2|22|1|1|7|6|2|3|4|1|3|1|0|2|2|0|0|1|0|0|2|1|3|2|3|2|5|2|2|1|0|1|anger|1|3|0110053|When one is unjustly accused of something one has not done.|1|', \"11005|1|1|5|2|22|1|1|7|6|2|4|1|2|2|0|0|0|1|1|0|0|0|0|2|2|3|1|0|0|5|1|3|2|1|0|sadness|2|2|0110054|When one's studies seem hopelessly difficult and uninteresting.  |1|\", '11005|1|1|5|2|22|1|1|7|6|2|5|4|2|2|0|0|1|0|0|0|0|0|1|2|1|3|2|2|2|3|3|2|2|0|0|disgust|2|2|0110055|When one finds out that someone you know is not at all like one 谩 had thought, for instance friends who steal and things like that, 谩 quite unwarranted.|1|', '11005|1|1|5|2|22|1|1|7|6|2|6|3|2|2|0|1|0|0|0|0|0|0|0|2|0|3|2|2|1|2|2|2|2|1|1|shame|2|2|0110056|When one has been unjust, stupid towards someone else. |1|', '11005|1|1|5|2|22|1|1|7|6|2|7|3|1|1|0|1|0|0|1|0|0|0|0|2|2|3|2|2|1|5|2|1|1|2|1|guilt|1|1|0110057|When one has neglected or been unjust to a good friend.|1|', '11006|1|1|6|1|23|1|2|0|0|2|1|4|2|3|1|0|0|1|0|1|0|0|1|1|0|1|1|1|0|4|1|3|0|0|0|joy|2|3|0110061|Passing an exam I did not expect to pass.|1|', '11006|1|1|6|1|23|1|2|0|0|2|2|3|1|2|1|0|0|1|0|1|0|0|0|1|0|2|1|1|4|5|0|3|3|1|0|fear|1|2|0110062|When I climbed up a tree to pick apples.  The angle of the ladder 谩 I was on did not enable me to get high enough.  This implied 谩 that the ladder was not very stable.|1|', '11006|1|1|6|1|23|1|2|0|0|2|3|4|3|3|0|0|0|0|0|0|0|0|1|1|1|3|2|1|2|5|0|0|1|0|0|anger|3|3|0110063|Friends who torture animals.|1|', '11006|1|1|6|1|23|1|2|0|0|2|4|4|1|2|0|0|0|0|0|0|0|0|0|2|1|3|0|3|2|5|3|0|1|0|0|sadness|1|2|0110064|[ Same as in anger.]|1|', '11006|1|1|6|1|23|1|2|0|0|2|5|4|2|4|0|0|0|0|0|0|0|0|0|1|1|3|2|1|2|1|3|0|1|0|0|disgust|2|4|0110065|Friends who torture animals.|1|', '11006|1|1|6|1|23|1|2|0|0|2|6|4|1|2|0|0|0|0|0|0|0|0|0|1|1|3|2|1|2|5|0|0|1|3|0|shame|1|2|0110066|[ Same as above - friends who torture animals.]|1|', '11006|1|1|6|1|23|1|2|0|0|2|7|3|1|2|0|0|0|0|0|0|0|0|0|0|2|0|1|2|0|5|1|0|0|0|0|guilt|1|2|0110067|[ When excuses are necessary and I get out of doing it myself.]|1|', '11007|1|1|7|2|35|0|2|0|8|2|1|4|4|4|0|0|1|2|1|1|0|0|1|2|3|1|0|3|0|4|1|3|3|3|0|joy|4|4|0110071|When I had my children.|1|', '11007|1|1|7|2|35|0|2|0|8|2|2|1|1|4|3|0|1|2|0|0|0|0|2|1|1|3|0|0|0|5|0|2|2|0|0|fear|1|4|0110072|When my 2 year old son climbed up and sat on the 7th floor 谩 balcony with his legs hanging out.  He was holding on tightly to 谩 the upper railing of the balcony but he could have easily lost 谩 his balance when he sat down.|1|', '11007|1|1|7|2|35|0|2|0|8|2|3|2|4|4|3|0|2|0|0|0|0|1|1|1|1|3|3|3|3|5|3|3|0|3|0|anger|4|4|0110073|When my partner was attacked and lost three teeth.|1|', '11007|1|1|7|2|35|0|2|0|8|2|4|1|1|2|0|1|0|0|0|0|0|0|0|2|2|3|0|0|0|1|0|2|2|0|1|sadness|1|2|0110074|When I see children on T.V from areas devastated by drought and 谩 war.|1|', '11007|1|1|7|2|35|0|2|0|8|2|5|2|1|3|3|0|1|1|0|0|0|0|1|1|1|3|0|0|4|4|1|2|2|1|0|disgust|1|3|0110075|When I nearly walked on a blindworm and then saw it crawl away.|1|', '11007|1|1|7|2|35|0|2|0|8|2|6|4|4|4|0|0|0|0|0|0|0|0|0|2|1|0|1|1|0|5|0|0|0|0|0|shame|4|4|0110076|When I saw my 18 year old son grab an oxygen mask as he had 谩 breathing difficulties.  I had a bad conscience because I had not 谩 stopped smoking.  Medication for the dilation of his breathing 谩 tubes also caused a sense of guilt in me.|1|', '11007|1|1|7|2|35|0|2|0|8|2|7|4|4|3|0|0|0|0|0|0|0|0|0|3|1|0|0|0|4|1|1|1|3|0|0|guilt|4|3|0110077|I experience a sense of guilt as my middle son cannot express 谩 himself like other children, neither verbally nor in writing.|1|', '11008|1|1|8|2|34|1|2|7|7|2|1|4|3|4|2|1|1|4|1|1|1|0|1|1|3|1|1|0|4|5|1|3|3|3|2|joy|3|4|0110081|When my child was born.|1|', '11008|1|1|8|2|34|1|2|7|7|2|2|4|1|4|3|0|0|1|0|0|0|0|0|1|1|3|3|1|0|1|2|2|2|2|0|fear|1|4|0110082|It was winter/spring and the ice was melting.  I was far out on a 谩 jetty and I poked the ice with a long branch to try and break it. 谩  The branch went through the ice and I fell in, the water closed 谩 in over my head.|1|', '11008|1|1|8|2|34|1|2|7|7|2|3|2|3|2|3|0|2|2|0|0|0|1|1|1|1|2|2|2|2|2|2|1|1|3|0|anger|3|2|0110083|Unjust accusations directed at me and my way of acting, by 谩 someone close to me.  |1|', '11008|1|1|8|2|34|1|2|7|7|2|4|3|4|2|0|1|0|1|0|0|0|0|0|2|2|3|3|2|4|4|2|1|2|0|1|sadness|4|2|0110084|Failing an examination.|1|', '11008|1|1|8|2|34|1|2|7|7|2|5|3|1|2|2|1|2|0|1|0|0|0|0|3|1|3|3|0|0|3|3|1|0|0|1|disgust|1|2|0110085|A drunkard fell, started bleeding and wet himself.  Disgust that 谩 turned into sadness-unpleasantness.|1|', '11008|1|1|8|2|34|1|2|7|7|2|6|3|3|2|2|0|1|2|0|0|0|0|1|2|2|3|3|2|1|5|2|1|1|3|0|shame|3|2|0110086|When, as an adult I have been caught lying or behaving badly.|1|', '11008|1|1|8|2|34|1|2|7|7|2|7|4|3|2|0|0|2|1|0|0|0|0|0|2|2|3|2|0|0|0|0|1|3|0|0|guilt|3|2|0110087|When I am in an environment or with a person much worse off than 谩 me, I realize how privileged I am.|1|', '11009|1|1|9|2|24|1|1|7|7|2|1|1|3|3|0|0|1|1|0|1|0|0|0|1|3|1|2|1|2|4|1|2|3|1|0|joy|3|3|0110091|When I saw a person I had not seen for a long time.|1|', '11009|1|1|9|2|24|1|1|7|7|2|2|4|3|3|2|0|0|0|0|0|0|0|0|3|1|3|0|3|1|3|1|0|2|0|0|fear|3|3|0110092|When, as a child, I was nearly knocked down by a car.|1|', '11009|1|1|9|2|24|1|1|7|7|2|3|3|3|4|0|1|0|0|0|0|0|0|0|1|2|3|2|1|3|1|3|2|0|3|1|anger|3|4|0110093|When I heard on the radio that the football match in Belgium had 谩 ended in a catastrophe, and several people had died.  I could not 谩  understand how normal people could behave in such a way.|1|', '11009|1|1|9|2|24|1|1|7|7|2|4|2|3|3|0|0|0|1|0|0|1|0|0|1|2|3|2|1|1|1|1|1|0|0|1|sadness|3|3|0110094|When I feel lonely, perhaps because I have to study a lot and I 谩 am shut up in my appartment.  Nothing happens in particular 谩 because there is no time for anything else.|1|', '11009|1|1|9|2|24|1|1|7|7|2|5|1|1|2|0|0|0|1|0|0|0|0|0|1|0|3|2|1|3|1|3|0|0|1|0|disgust|1|2|0110095|When one learns through the mass media all the wars and killing 谩 going on in the world.|1|', '11009|1|1|9|2|24|1|1|7|7|2|6|4|4|4|0|0|2|0|0|0|0|0|0|3|2|3|3|3|2|2|3|1|1|1|0|shame|4|4|0110096|I lied, to be precise I cancelled a meeting with a good friend.|1|', '11009|1|1|9|2|24|1|1|7|7|2|7|2|3|3|0|0|2|0|0|0|0|0|0|3|1|3|2|1|1|2|2|1|2|0|0|guilt|3|3|0110097|When one lets friends down|1|', '11010|1|1|10|1|24|0|2|6|6|2|1|2|4|3|1|0|0|1|0|1|0|0|0|1|2|1|1|1|1|4|1|3|2|3|0|joy|4|3|0110101|When I was accepted for a course on finance and accounting.|1|', '11010|1|1|10|1|24|0|2|6|6|2|2|4|3|3|2|0|2|1|0|0|0|0|0|2|2|3|0|0|4|5|1|2|2|1|0|fear|3|3|0110102|A bus drove over my right leg.  The event itself was not very 谩 frightening but when I had to wait in the emergency ward for 谩 three hours and then my leg began to swell, I was frightened.|1|', '11010|1|1|10|1|24|0|2|6|6|2|3|3|4|3|2|0|0|1|1|0|0|0|0|2|2|3|3|1|3|5|1|1|1|1|0|anger|4|3|0110103|At my Summer job, nobody looked after me in particular and I had 谩 to learn all on my own.|1|', '11010|1|1|10|1|24|0|2|6|6|2|4|3|4|3|0|1|0|0|0|0|0|0|0|2|2|3|3|2|1|5|0|1|1|2|1|sadness|4|3|0110104|When I was not accepted as a student in finance and accounting.|1|', '11010|1|1|10|1|24|0|2|6|6|2|5|3|1|3|1|0|0|0|0|0|0|0|0|1|2|3|1|0|3|5|0|2|2|1|0|disgust|1|3|0110105|When I had just moved into my new appartment I found a ventilator 谩 in the kitchen.  I was going to clean it when I found that the 谩 drum was full of mud and slime.  I felt disgusted.|1|', '11010|1|1|10|1|24|0|2|6|6|2|6|2|2|2|0|0|0|0|0|0|0|0|0|1|2|3|2|2|1|2|2|1|1|0|0|shame|2|2|0110106|My elder brother and I have not always had a good relationship 谩 and I feel ashamed of myself as I do not call him to talk to him 谩 nowadays.|1|', '11010|1|1|10|1|24|0|2|6|6|2|7|3|4|1|0|0|0|0|1|0|0|0|0|1|1|3|2|2|1|2|2|2|1|0|0|guilt|4|1|0110107|At my Summer job a new caretaker had been employed who was my age 谩  but I preferred going out for lunch with the accounts personnel 谩 rather than with him.|1|', '11011|1|1|11|1|25|1|2|7|6|2|1|3|3|2|0|0|0|0|1|0|0|0|0|2|2|1|1|2|1|3|1|3|2|0|0|joy|3|2|0110111|Passed an exam by 2 points.|1|', '11011|1|1|11|1|25|1|2|7|6|2|2|4|1|2|3|1|0|0|0|0|0|0|0|3|2|2|0|3|4|3|1|2|2|0|1|fear|1|2|0110112|In a cottage in a large forest, I was alone for a while in the 谩 dark.|1|', '11011|1|1|11|1|25|1|2|7|6|2|3|3|3|2|3|0|0|1|0|0|0|0|1|1|2|0|0|1|3|4|2|3|0|2|0|anger|3|2|0110113|When I spoke to Jan-Erik Wikstr梅m on the telephone. |1|', '11011|1|1|11|1|25|1|2|7|6|2|4|2|4|2|0|2|0|0|0|0|0|0|0|3|2|1|0|1|2|4|2|0|0|0|2|sadness|4|2|0110114|Railway station good-bye.|1|', '11011|1|1|11|1|25|1|2|7|6|2|5|4|1|3|1|1|0|0|0|0|0|0|0|2|1|3|0|0|4|3|0|2|2|2|1|disgust|1|3|0110115|I saw a cripple in rags with small children in Italy.  He was 谩 probably an imposter.|1|', '11011|1|1|11|1|25|1|2|7|6|2|6|4|4|3|0|0|2|1|0|0|0|0|0|1|1|3|0|1|1|5|2|1|2|2|0|shame|4|3|0110116|I told a friend that I was going to a party and he would not 谩 enjoy himself if he came along.  He understood  that he would not 谩 have fitted in and there was something in that.|1|', \"11011|1|1|11|1|25|1|2|7|6|2|7|2|4|4|1|2|0|1|0|0|0|0|1|3|2|1|3|0|0|0|3|1|0|1|2|guilt|4|4|0110117|I was the reason behind the break-up of my friend's relationship 谩 with his girlfriend.  She finished with him.|1|\", '11012|1|1|12|1|23|1|2|7|6|2|1|1|3|3|0|0|1|1|0|1|0|0|0|1|1|1|1|0|4|4|3|0|0|0|0|joy|3|3|0110121|I passed an exam that I was absolutely certain that I had failed.|1|', '11012|1|1|12|1|23|1|2|7|6|2|2|3|2|4|1|0|1|1|0|0|0|0|0|1|2|3|0|1|4|5|1|3|3|1|0|fear|2|4|0110122|On the way back from Denmark with a friend on a small yatch, 谩 there was a storm and my friend was blown overboard;  I was very 谩 scared till I managed to get him back onboard.|1|', '11012|1|1|12|1|23|1|2|7|6|2|3|1|2|3|2|0|0|1|0|0|0|0|0|1|1|2|0|0|1|4|1|2|2|2|0|anger|2|3|0110123|I locked myself out.|1|', '11012|1|1|12|1|23|1|2|7|6|2|4|1|3|3|0|0|0|1|0|0|0|0|0|1|1|2|3|1|1|1|1|2|0|0|0|sadness|3|3|0110124|I missed the last tram home and had to walk in the pouring rain.|1|', '11012|1|1|12|1|23|1|2|7|6|2|5|3|4|4|1|0|1|1|0|0|0|1|0|1|1|3|0|0|2|1|3|2|1|3|0|disgust|4|4|0110125|I found some worms in the food and I had obviously eaten some.|1|', '11012|1|1|12|1|23|1|2|7|6|2|6|4|4|3|0|0|0|0|1|0|0|0|0|3|1|3|0|1|2|3|3|2|2|0|0|shame|4|3|0110126|My friend was so intoxicated that the police came and took him 谩 away, and they later contacted his parents.|1|', '11012|1|1|12|1|23|1|2|7|6|2|7|1|1|2|0|0|1|0|0|0|0|0|0|1|3|0|0|0|2|4|2|2|2|0|0|guilt|1|2|0110127|I hapened to overhear something which I was not meant to hear.|1|', '11013|1|1|13|2|22|1|2|7|4|2|1|4|3|4|1|0|0|1|0|1|0|0|0|1|1|1|0|0|4|4|0|0|0|3|0|joy|3|4|0110131|When I won a trip to Greece in a competition.|1|', '11013|1|1|13|2|22|1|2|7|4|2|2|3|1|3|1|1|0|0|1|0|0|0|0|1|2|3|0|0|3|2|0|0|1|0|1|fear|1|3|0110132|When I am out in the dark and a suspicious looking character 谩 comes towards me.|1|', '11013|1|1|13|2|22|1|2|7|4|2|3|1|1|3|1|0|0|3|0|0|0|0|0|1|1|3|0|3|3|4|3|2|1|1|0|anger|1|3|0110133|At work, when an elderly man complained unjustifiably about me and 谩 distrusted me.|1|', '11013|1|1|13|2|22|1|2|7|4|2|4|1|2|3|0|0|0|1|0|0|1|0|1|1|2|3|2|2|0|5|1|2|2|3|1|sadness|2|3|0110134|When I had not understood anything after a lecture.|1|', '11013|1|1|13|2|22|1|2|7|4|2|5|2|1|2|0|1|0|1|1|0|0|0|2|0|0|0|3|3|2|4|0|0|0|0|1|disgust|1|2|0110135|When an alcoholic stood dribbling over a food counter.|1|', '11013|1|1|13|2|22|1|2|7|4|2|6|2|1|1|0|0|2|1|0|1|0|0|0|1|3|0|1|0|1|5|1|2|2|0|0|shame|1|1|0110136|When my friend and I were discussing the good looks of a guy we 谩 realized that he had been listening.|1|', '11013|1|1|13|2|22|1|2|7|4|2|7|1|3|2|0|0|0|0|0|0|0|0|0|3|2|3|0|1|1|2|2|2|0|0|0|guilt|3|2|0110137|When I complained about a colleague to the manager and he told 谩 her that someone had complained; this colleague came to me 谩 believing that I liked her.|1|', \"11014|1|1|14|1|23|0|0|7|4|2|1|2|3|3|0|0|1|1|1|1|0|0|0|1|3|1|1|1|2|4|1|3|3|0|0|joy|3|3|0110141|At a friend's birthday party with some of my closest friends.  It 谩 was all very pleasant and one could say that I was happy to have 谩 such good friends.|1|\", '11014|1|1|14|1|23|0|0|7|4|2|2|1|1|2|1|0|0|0|0|0|0|0|0|0|2|3|0|3|1|5|0|2|0|0|0|fear|1|2|0110142|On the way home one Friday night in the heavy rain the car 谩 acquaplanned.  I lost contact with the road surface for a few 谩 seconds.|1|', '11014|1|1|14|1|23|0|0|7|4|2|3|1|1|2|1|0|0|1|0|0|0|0|1|2|2|3|3|2|2|2|2|2|1|0|0|anger|1|2|0110143|Mad at my dad.|1|', '11014|1|1|14|1|23|0|0|7|4|2|4|3|3|3|0|0|0|1|0|0|1|0|0|3|2|3|3|3|0|1|1|1|1|0|1|sadness|3|3|0110144|A case of unrequited love.|1|', '11014|1|1|14|1|23|0|0|7|4|2|5|2|1|3|0|1|0|0|1|0|0|0|0|3|1|3|2|3|3|2|1|2|1|0|1|disgust|1|3|0110145|A bad smelling cucumber.|1|', '11014|1|1|14|1|23|0|0|7|4|2|6|2|1|3|0|0|2|1|0|0|0|0|0|1|3|3|3|1|2|4|2|2|3|3|0|shame|1|3|0110146|Nearly caught masturbating.|1|', '11014|1|1|14|1|23|0|0|7|4|2|7|1|1|1|0|0|0|0|0|0|0|0|0|0|0|0|2|2|2|5|3|0|1|1|0|guilt|1|1|0110147|I do not help out enough at home.|1|', '11015|1|1|15|1|26|0|2|7|6|2|1|3|3|3|1|0|0|2|0|1|0|0|1|2|1|1|1|1|1|4|2|2|0|0|0|joy|3|3|0110151|I felt very happy when I won the football pools.|1|']\n"
     ]
    }
   ],
   "source": [
    "import pandas as pd\n",
    "import csv\n",
    "\n",
    "path = r'c:\\Users\\4K\\Documents\\GitHub\\DBM140\\isear.csv'\n",
    "\n",
    "data=[]\n",
    "\n",
    "with open(path, newline='') as csvfile:\n",
    "    csv_reader = csv.reader(csvfile, delimiter='|')\n",
    "    \n",
    "    for row in csv_reader:\n",
    "        # combine each comlum\n",
    "        merged_row = '|'.join(row)\n",
    "        data.append(merged_row)\n",
    "\n",
    "# 查看列表中的数据数量\n",
    "num_elements = len(data)\n",
    "\n",
    "# 打印数据数量\n",
    "print(\"List contains\", num_elements, \"elements.\")\n",
    "\n",
    "print(data[:100])\n"
   ]
  },
  {
   "cell_type": "code",
   "execution_count": 171,
   "metadata": {},
   "outputs": [
    {
     "name": "stdout",
     "output_type": "stream",
     "text": [
      "修改后的 DataFrame:\n",
      "0         ID CITY COUN SUBJ SEX AGE RELI PRAC FOCC MOCC  ...     None  None  \\\n",
      "0      11001    1    1    1   1  33    1    2    6    1  ...     None  None   \n",
      "1      11001    1    1    1   1  33    1    2    6    1  ...     None  None   \n",
      "2      11001    1    1    1   1  33    1    2    6    1  ...     None  None   \n",
      "3      11001    1    1    1   1  33    1    2    6    1  ...     None  None   \n",
      "4      11001    1    1    1   1  33    1    2    6    1  ...     None  None   \n",
      "...      ...  ...  ...  ...  ..  ..  ...  ...  ...  ...  ... ..   ...   ...   \n",
      "7661  331062    1   33   62   2  21    2    1    7    7  ...     None  None   \n",
      "7662  331062    1   33   62   2  21    2    1    7    7  ...     None  None   \n",
      "7663  331062    1   33   62   2  21    2    1    7    7  ...     None  None   \n",
      "7664  331062    1   33   62   2  21    2    1    7    7  ...     None  None   \n",
      "7665  331062    1   33   62   2  21    2    1    7    7  ...     None  None   \n",
      "\n",
      "0     None  None  None  None  None  None  None  \n",
      "0     None  None  None  None  None  None  None  \n",
      "1     None  None  None  None  None  None  None  \n",
      "2     None  None  None  None  None  None  None  \n",
      "3     None  None  None  None  None  None  None  \n",
      "4     None  None  None  None  None  None  None  \n",
      "...    ...   ...   ...   ...   ...   ...   ...  \n",
      "7661  None  None  None  None  None  None  None  \n",
      "7662  None  None  None  None  None  None  None  \n",
      "7663  None  None  None  None  None  None  None  \n",
      "7664  None  None  None  None  None  None  None  \n",
      "7665  None  None  None  None  None  None  None  \n",
      "\n",
      "[7666 rows x 52 columns]\n",
      "0         ID CITY COUN SUBJ SEX AGE RELI PRAC FOCC MOCC  ... RELA VERBAL  \\\n",
      "0      11001    1    1    1   1  33    1    2    6    1  ...    3      2   \n",
      "1      11001    1    1    1   1  33    1    2    6    1  ...    2      0   \n",
      "2      11001    1    1    1   1  33    1    2    6    1  ...    1      0   \n",
      "3      11001    1    1    1   1  33    1    2    6    1  ...    1      0   \n",
      "4      11001    1    1    1   1  33    1    2    6    1  ...    2      0   \n",
      "...      ...  ...  ...  ...  ..  ..  ...  ...  ...  ...  ...  ...    ...   \n",
      "7661  331062    1   33   62   2  21    2    1    7    7  ...    2      3   \n",
      "7662  331062    1   33   62   2  21    2    1    7    7  ...    0      1   \n",
      "7663  331062    1   33   62   2  21    2    1    7    7  ...    2      0   \n",
      "7664  331062    1   33   62   2  21    2    1    7    7  ...    0      2   \n",
      "7665  331062    1   33   62   2  21    2    1    7    7  ...    2      1   \n",
      "\n",
      "0    NEUTRO   Field1 Field3 Field2    MYKEY  \\\n",
      "0         0      joy      4      3  0110011   \n",
      "1         0     fear      3      2  0110012   \n",
      "2         0    anger      1      3  0110013   \n",
      "3         2  sadness      4      4  0110014   \n",
      "4         0  disgust      4      4  0110015   \n",
      "...     ...      ...    ...    ...      ...   \n",
      "7661      0    anger      1      2  3310623   \n",
      "7662      1  sadness      4      3  3310624   \n",
      "7663      0  disgust      1      2  3310625   \n",
      "7664      0    shame      1      3  3310626   \n",
      "7665      1    guilt      1      2  3310627   \n",
      "\n",
      "0                                                   SIT STATE     \n",
      "0     During the period of falling in love, each tim...     1     \n",
      "1            When I was involved in a traffic accident.     1     \n",
      "2     When I was driving home after  several days of...     1     \n",
      "3     When I lost the person who meant the most to me.      1     \n",
      "4     The time I knocked a deer down - the sight of ...     1     \n",
      "...                                                 ...   ... ..  \n",
      "7661  Two years back someone invited me to be the tu...     1     \n",
      "7662  I had taken the responsibility to do something...     1     \n",
      "7663  I was at home and I heard a loud sound of spit...     1     \n",
      "7664  I did not do the homework that the teacher had...     1     \n",
      "7665  I had shouted at my younger brother and he was...     1     \n",
      "\n",
      "[7666 rows x 43 columns]\n"
     ]
    }
   ],
   "source": [
    "import pandas as pd\n",
    "\n",
    "# 替换为你的CSV文件路径\n",
    "csv_file_path = r'c:\\Users\\4K\\Documents\\GitHub\\DBM140\\isear.csv'\n",
    "\n",
    "data = []\n",
    "\n",
    "with open(csv_file_path, 'r') as file:\n",
    "    for line in file:\n",
    "        try:\n",
    "            row = line.strip().split('|')\n",
    "            data.append(row)\n",
    "        except Exception as e:\n",
    "            print(f\"Skipping line: {line}\")\n",
    "\n",
    "# 创建 DataFrame\n",
    "df = pd.DataFrame(data)\n",
    "\n",
    "# 显示 DataFrame\n",
    "\n",
    "\n",
    "# 将第一列的值设置为列名\n",
    "df.columns = df.iloc[0]\n",
    "\n",
    "# 删除第一行\n",
    "df = df.iloc[1:]\n",
    "\n",
    "# 重置索引\n",
    "df = df.reset_index(drop = True)\n",
    "\n",
    "# 显示修改后的 DataFrame\n",
    "print(\"修改后的 DataFrame:\")\n",
    "print(df)\n",
    "\n",
    "\n",
    "\n",
    "# 显示修改后的 DataFrame\n",
    "print(df)"
   ]
  },
  {
   "cell_type": "code",
   "execution_count": 189,
   "metadata": {},
   "outputs": [
    {
     "name": "stdout",
     "output_type": "stream",
     "text": [
      "0      \n",
      "0      \n",
      "1      \n",
      "2      \n",
      "3      \n",
      "4      \n",
      "...  ..\n",
      "7661   \n",
      "7662   \n",
      "7663   \n",
      "7664   \n",
      "7665   \n",
      "\n",
      "[7666 rows x 1 columns]\n"
     ]
    }
   ],
   "source": [
    "# check which colomns to drop \n",
    "subset = df.iloc[:, 42:43]  # \n",
    "\n",
    "# 显示第30到35列的数据\n",
    "print(subset)"
   ]
  },
  {
   "cell_type": "code",
   "execution_count": 190,
   "metadata": {},
   "outputs": [
    {
     "name": "stdout",
     "output_type": "stream",
     "text": [
      "0     ID CITY COUN SUBJ SEX AGE RELI PRAC FOCC MOCC  ... SELF RELA VERBAL  \\\n",
      "0  11001    1    1    1   1  33    1    2    6    1  ...    3    3      2   \n",
      "1  11001    1    1    1   1  33    1    2    6    1  ...    2    2      0   \n",
      "2  11001    1    1    1   1  33    1    2    6    1  ...    2    1      0   \n",
      "3  11001    1    1    1   1  33    1    2    6    1  ...    1    1      0   \n",
      "4  11001    1    1    1   1  33    1    2    6    1  ...    0    2      0   \n",
      "\n",
      "0 NEUTRO   Field1 Field3 Field2    MYKEY  \\\n",
      "0      0      joy      4      3  0110011   \n",
      "1      0     fear      3      2  0110012   \n",
      "2      0    anger      1      3  0110013   \n",
      "3      2  sadness      4      4  0110014   \n",
      "4      0  disgust      4      4  0110015   \n",
      "\n",
      "0                                                SIT STATE  \n",
      "0  During the period of falling in love, each tim...     1  \n",
      "1         When I was involved in a traffic accident.     1  \n",
      "2  When I was driving home after  several days of...     1  \n",
      "3  When I lost the person who meant the most to me.      1  \n",
      "4  The time I knocked a deer down - the sight of ...     1  \n",
      "\n",
      "[5 rows x 42 columns]\n"
     ]
    }
   ],
   "source": [
    "columns_to_drop = df.columns[42:43]\n",
    "\n",
    "# Drop the specified columns\n",
    "df.drop(columns=columns_to_drop, inplace=True)\n",
    "# Write the cleaned DataFrame to a new CSV file\n",
    "print(df.head())\n",
    "\n",
    "df.to_csv('modified_data.csv', index=False)"
   ]
  },
  {
   "cell_type": "code",
   "execution_count": null,
   "metadata": {},
   "outputs": [],
   "source": []
  }
 ],
 "metadata": {
  "language_info": {
   "name": "python"
  }
 },
 "nbformat": 4,
 "nbformat_minor": 2
}
