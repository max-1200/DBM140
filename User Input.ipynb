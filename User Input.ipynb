{
 "cells": [
  {
   "cell_type": "code",
   "execution_count": 14,
   "metadata": {},
   "outputs": [],
   "source": [
    "from nltk.tokenize import word_tokenize\n",
    "import numpy as np\n",
    "from tensorflow import keras"
   ]
  },
  {
   "cell_type": "markdown",
   "metadata": {},
   "source": [
    "Below is the import and define of GloVe, takes a while but once it's done we dont need to repeat it. <br>\n",
    "!!!!!!!!!!!!!!!!!!!!!!!!<br>Make sure your file address for this code contains \"glove.6B.50d.txt\"<br>\n",
    "If not, get it with Google Drive or https://nlp.stanford.edu/projects/glove/ \n"
   ]
  },
  {
   "cell_type": "code",
   "execution_count": 15,
   "metadata": {},
   "outputs": [
    {
     "ename": "KeyboardInterrupt",
     "evalue": "",
     "output_type": "error",
     "traceback": [
      "\u001b[1;31m---------------------------------------------------------------------------\u001b[0m",
      "\u001b[1;31mKeyboardInterrupt\u001b[0m                         Traceback (most recent call last)",
      "\u001b[1;32mc:\\Users\\4K\\Documents\\GitHub\\DBM140\\User Input.ipynb Cell 3\u001b[0m line \u001b[0;36m2\n\u001b[0;32m     <a href='vscode-notebook-cell:/c%3A/Users/4K/Documents/GitHub/DBM140/User%20Input.ipynb#W2sZmlsZQ%3D%3D?line=16'>17</a>\u001b[0m             embeddings_index[word] \u001b[39m=\u001b[39m coefs\n\u001b[0;32m     <a href='vscode-notebook-cell:/c%3A/Users/4K/Documents/GitHub/DBM140/User%20Input.ipynb#W2sZmlsZQ%3D%3D?line=17'>18</a>\u001b[0m     \u001b[39mreturn\u001b[39;00m embeddings_index\n\u001b[1;32m---> <a href='vscode-notebook-cell:/c%3A/Users/4K/Documents/GitHub/DBM140/User%20Input.ipynb#W2sZmlsZQ%3D%3D?line=19'>20</a>\u001b[0m embeddings_index \u001b[39m=\u001b[39m glove()\n",
      "\u001b[1;32mc:\\Users\\4K\\Documents\\GitHub\\DBM140\\User Input.ipynb Cell 3\u001b[0m line \u001b[0;36m1\n\u001b[0;32m      <a href='vscode-notebook-cell:/c%3A/Users/4K/Documents/GitHub/DBM140/User%20Input.ipynb#W2sZmlsZQ%3D%3D?line=7'>8</a>\u001b[0m embeddings_index \u001b[39m=\u001b[39m {}\n\u001b[0;32m      <a href='vscode-notebook-cell:/c%3A/Users/4K/Documents/GitHub/DBM140/User%20Input.ipynb#W2sZmlsZQ%3D%3D?line=8'>9</a>\u001b[0m \u001b[39mwith\u001b[39;00m \u001b[39mopen\u001b[39m(vocab_f, encoding\u001b[39m=\u001b[39m\u001b[39m'\u001b[39m\u001b[39mutf8\u001b[39m\u001b[39m'\u001b[39m) \u001b[39mas\u001b[39;00m f:\n\u001b[1;32m---> <a href='vscode-notebook-cell:/c%3A/Users/4K/Documents/GitHub/DBM140/User%20Input.ipynb#W2sZmlsZQ%3D%3D?line=9'>10</a>\u001b[0m     \u001b[39mfor\u001b[39;00m line \u001b[39min\u001b[39;00m f:\n\u001b[0;32m     <a href='vscode-notebook-cell:/c%3A/Users/4K/Documents/GitHub/DBM140/User%20Input.ipynb#W2sZmlsZQ%3D%3D?line=10'>11</a>\u001b[0m         \u001b[39m# splitting each line of the glove.6B.50d in a list of \u001b[39;00m\n\u001b[0;32m     <a href='vscode-notebook-cell:/c%3A/Users/4K/Documents/GitHub/DBM140/User%20Input.ipynb#W2sZmlsZQ%3D%3D?line=11'>12</a>\u001b[0m         \u001b[39m# items- in which the first element is the word to be embedded,\u001b[39;00m\n\u001b[0;32m     <a href='vscode-notebook-cell:/c%3A/Users/4K/Documents/GitHub/DBM140/User%20Input.ipynb#W2sZmlsZQ%3D%3D?line=12'>13</a>\u001b[0m         \u001b[39m# and from second to the end of line contains the 50d vector.\u001b[39;00m\n\u001b[0;32m     <a href='vscode-notebook-cell:/c%3A/Users/4K/Documents/GitHub/DBM140/User%20Input.ipynb#W2sZmlsZQ%3D%3D?line=13'>14</a>\u001b[0m         values \u001b[39m=\u001b[39m line\u001b[39m.\u001b[39mrstrip()\u001b[39m.\u001b[39mrsplit(\u001b[39m'\u001b[39m\u001b[39m \u001b[39m\u001b[39m'\u001b[39m)\n\u001b[0;32m     <a href='vscode-notebook-cell:/c%3A/Users/4K/Documents/GitHub/DBM140/User%20Input.ipynb#W2sZmlsZQ%3D%3D?line=14'>15</a>\u001b[0m         word \u001b[39m=\u001b[39m values[\u001b[39m0\u001b[39m]\n",
      "File \u001b[1;32me:\\python3.9\\lib\\codecs.py:319\u001b[0m, in \u001b[0;36mBufferedIncrementalDecoder.decode\u001b[1;34m(self, input, final)\u001b[0m\n\u001b[0;32m    314\u001b[0m \u001b[39mdef\u001b[39;00m \u001b[39m_buffer_decode\u001b[39m(\u001b[39mself\u001b[39m, \u001b[39minput\u001b[39m, errors, final):\n\u001b[0;32m    315\u001b[0m     \u001b[39m# Overwrite this method in subclasses: It must decode input\u001b[39;00m\n\u001b[0;32m    316\u001b[0m     \u001b[39m# and return an (output, length consumed) tuple\u001b[39;00m\n\u001b[0;32m    317\u001b[0m     \u001b[39mraise\u001b[39;00m \u001b[39mNotImplementedError\u001b[39;00m\n\u001b[1;32m--> 319\u001b[0m \u001b[39mdef\u001b[39;00m \u001b[39mdecode\u001b[39m(\u001b[39mself\u001b[39m, \u001b[39minput\u001b[39m, final\u001b[39m=\u001b[39m\u001b[39mFalse\u001b[39;00m):\n\u001b[0;32m    320\u001b[0m     \u001b[39m# decode input (taking the buffer into account)\u001b[39;00m\n\u001b[0;32m    321\u001b[0m     data \u001b[39m=\u001b[39m \u001b[39mself\u001b[39m\u001b[39m.\u001b[39mbuffer \u001b[39m+\u001b[39m \u001b[39minput\u001b[39m\n\u001b[0;32m    322\u001b[0m     (result, consumed) \u001b[39m=\u001b[39m \u001b[39mself\u001b[39m\u001b[39m.\u001b[39m_buffer_decode(data, \u001b[39mself\u001b[39m\u001b[39m.\u001b[39merrors, final)\n",
      "\u001b[1;31mKeyboardInterrupt\u001b[0m: "
     ]
    }
   ],
   "source": [
    "def glove():\n",
    "    # Glove vector contains a 50 dimensional vector corresponding \n",
    "    # to each word in dictionary.\n",
    "    vocab_f = 'glove.6B.50d.txt'\n",
    " \n",
    "    # embeddings_index is a dictionary which contains the mapping of\n",
    "    # word with its corresponding 50d vector.\n",
    "    embeddings_index = {}\n",
    "    with open(vocab_f, encoding='utf8') as f:\n",
    "        for line in f:\n",
    "            # splitting each line of the glove.6B.50d in a list of \n",
    "            # items- in which the first element is the word to be embedded,\n",
    "            # and from second to the end of line contains the 50d vector.\n",
    "            values = line.rstrip().rsplit(' ')\n",
    "            word = values[0]\n",
    "            coefs = np.asarray(values[1:], dtype='float32')\n",
    "            embeddings_index[word] = coefs\n",
    "    return embeddings_index\n",
    "\n",
    "embeddings_index = glove()"
   ]
  },
  {
   "cell_type": "markdown",
   "metadata": {},
   "source": [
    "Define the processing of input and function for prediction, pretty much the same as the FirstCode_DBM140"
   ]
  },
  {
   "cell_type": "code",
   "execution_count": null,
   "metadata": {},
   "outputs": [],
   "source": [
    "class Usertest:\n",
    "    def __init__(self):\n",
    "        self.user_input = []\n",
    "\n",
    "    def lower_texts(self,user_input):\n",
    "        # Each  sentence in feel_arr is tokenized by the help of work tokenizer.\n",
    "        # If I have a sentence - 'I am happy'. \n",
    "        # After word tokenizing it will convert into- ['I','am','happy']\n",
    "        lower_texts = [word_tokenize(sent.lower()) for sent in user_input]\n",
    "        return lower_texts\n",
    "    \n",
    "    def padding (self,lower_texts):\n",
    "        # Defined a function padd in which each sentence length is fixed to 200.\n",
    "        # If length is less than 200 , then the word- '<padd>' is append\n",
    "        def padd(arr):\n",
    "            for i in range(200-len(arr)):\n",
    "                arr.append('<pad>')\n",
    "            return arr[:200]\n",
    "        # call the padd function for each sentence in feel_arr\n",
    "        for i in range(len(lower_texts)):\n",
    "            lower_texts[i]=padd(lower_texts[i])\n",
    "        return lower_texts\n",
    "\n",
    "\n",
    "    def embedding (self,lower_texts,embeddings_index):\n",
    "        # Embedding each word of the feel_arr\n",
    "        embedding_texts = []\n",
    "        # Iterate through each sub-list (sentences)\n",
    "        for word_list in lower_texts:\n",
    "            # Initialize an empty list to store the embedding vectors for each word\n",
    "            word_vectors = []\n",
    "            for word in word_list:\n",
    "                if word in embeddings_index:\n",
    "                    word_vector = embeddings_index[word]\n",
    "                    word_vectors.append(word_vector)\n",
    "                else:\n",
    "                    # if the word to be embedded is '<padd>' append 0 fifty times\n",
    "                    word_vector = np.zeros(50, dtype='float32')\n",
    "                    word_vectors.append(word_vector)\n",
    "            embedding_texts.append(word_vectors)\n",
    "            X = np.array(embedding_texts)\n",
    "        return  X\n",
    "\n",
    "    def importmodel (self,path):\n",
    "        model = keras.models.load_model(path)\n",
    "        return model\n",
    "    \n",
    "    def predict (self,model,X):\n",
    "        prediction = model.predict(X,verbose=0)\n",
    "        return prediction\n",
    "    \n",
    "\n",
    "\n",
    "\n",
    "    def run(self,user_input,embeddings_index,path):\n",
    "        lower_texts = self.lower_texts(user_input)\n",
    "        lower_texts = self.padding(lower_texts)\n",
    "        X = self.embedding (lower_texts,embeddings_index)\n",
    "\n",
    "        model = self.importmodel (path)\n",
    "        prediction = self.predict(model,X)\n",
    "        return prediction\n",
    "\n",
    "\n",
    "    \n",
    "\n",
    "    "
   ]
  },
  {
   "cell_type": "markdown",
   "metadata": {},
   "source": [
    "!!!!!!!!!!!!!!!!!!!!<br>\n",
    "Below is the Code for attention layer only, if you dont have attention in the model you can skip this part<br>\n",
    "model with atttention layer is always ended in .keras, while rugular model ended with .h5<br>\n",
    "!!!!!!!!!!!!!!!!!!!!"
   ]
  },
  {
   "cell_type": "code",
   "execution_count": null,
   "metadata": {},
   "outputs": [],
   "source": [
    "import os\n",
    "from tensorflow.keras import backend as K\n",
    "from tensorflow.keras.layers import Dense, Lambda, Dot, Activation, Concatenate, Layer, RepeatVector, Add\n",
    "\n",
    "\n",
    "# KERAS_ATTENTION_DEBUG: If set to 1. Will switch to debug mode.\n",
    "# In debug mode, the class Attention is no longer a Keras layer.\n",
    "# What it means in practice is that we can have access to the internal values\n",
    "# of each tensor. If we don't use debug, Keras treats the object\n",
    "# as a layer, and we can only get the final output.\n",
    "debug_flag = int(os.environ.get('KERAS_ATTENTION_DEBUG', 0))\n",
    "\n",
    "@keras.saving.register_keras_serializable()\n",
    "# References:\n",
    "# - https://arxiv.org/pdf/1508.04025.pdf (Luong).\n",
    "# - https://arxiv.org/pdf/1409.0473.pdf (Bahdanau).\n",
    "# - https://machinelearningmastery.com/the-bahdanau-attention-mechanism/ (Some more explanation).\n",
    "\n",
    "class Attention(object if debug_flag else Layer):\n",
    "    SCORE_LUONG = 'luong'\n",
    "    SCORE_BAHDANAU = 'bahdanau'\n",
    "\n",
    "    def __init__(self, units: int = 128, score: str = 'luong', **kwargs):\n",
    "        super(Attention, self).__init__(**kwargs)\n",
    "        if score not in {self.SCORE_LUONG, self.SCORE_BAHDANAU}:\n",
    "            raise ValueError(f'Possible values for score are: [{self.SCORE_LUONG}] and [{self.SCORE_BAHDANAU}].')\n",
    "        self.units = units\n",
    "        self.score = score\n",
    "\n",
    "    # noinspection PyAttributeOutsideInit\n",
    "    def build(self, input_shape):\n",
    "        input_dim = int(input_shape[-1])\n",
    "        with K.name_scope(self.name if not debug_flag else 'attention'):\n",
    "            # W in W*h_S.\n",
    "            if self.score == self.SCORE_LUONG:\n",
    "                self.luong_w = Dense(input_dim, use_bias=False, name='luong_w')\n",
    "                # dot : last hidden state H_t and every hidden state H_s.\n",
    "                self.luong_dot = Dot(axes=[1, 2], name='attention_score')\n",
    "            else:\n",
    "                # Dense implements the operation: output = activation(dot(input, kernel) + bias)\n",
    "                self.bahdanau_v = Dense(1, use_bias=False, name='bahdanau_v')\n",
    "                self.bahdanau_w1 = Dense(input_dim, use_bias=False, name='bahdanau_w1')\n",
    "                self.bahdanau_w2 = Dense(input_dim, use_bias=False, name='bahdanau_w2')\n",
    "                self.bahdanau_repeat = RepeatVector(input_shape[1])\n",
    "                self.bahdanau_tanh = Activation('tanh', name='bahdanau_tanh')\n",
    "                self.bahdanau_add = Add()\n",
    "\n",
    "            self.h_t = Lambda(lambda x: x[:, -1, :], output_shape=(input_dim,), name='last_hidden_state')\n",
    "\n",
    "            # exp / sum(exp) -> softmax.\n",
    "            self.softmax_normalizer = Activation('softmax', name='attention_weight')\n",
    "\n",
    "            # dot : score * every hidden state H_s.\n",
    "            # dot product. SUM(v1*v2). H_s = every source hidden state.\n",
    "            self.dot_context = Dot(axes=[1, 1], name='context_vector')\n",
    "\n",
    "            # [Ct; ht]\n",
    "            self.concat_c_h = Concatenate(name='attention_output')\n",
    "\n",
    "            # x -> tanh(w_c(x))\n",
    "            self.w_c = Dense(self.units, use_bias=False, activation='tanh', name='attention_vector')\n",
    "        if not debug_flag:\n",
    "            # debug: the call to build() is done in call().\n",
    "            super(Attention, self).build(input_shape)\n",
    "\n",
    "    def compute_output_shape(self, input_shape):\n",
    "        return input_shape[0], self.units\n",
    "\n",
    "    def __call__(self, inputs, training=None, **kwargs):\n",
    "        if debug_flag:\n",
    "            return self.call(inputs, training, **kwargs)\n",
    "        else:\n",
    "            return super(Attention, self).__call__(inputs, training, **kwargs)\n",
    "\n",
    "    # noinspection PyUnusedLocal\n",
    "    def call(self, inputs, training=None, **kwargs):\n",
    "        \"\"\"\n",
    "        Many-to-one attention mechanism for Keras. Supports:\n",
    "            - Luong's multiplicative style.\n",
    "            - Bahdanau's additive style.\n",
    "        @param inputs: 3D tensor with shape (batch_size, time_steps, input_dim).\n",
    "        @param training: not used in this layer.\n",
    "        @return: 2D tensor with shape (batch_size, units)\n",
    "        @author: philipperemy, felixhao28.\n",
    "        \"\"\"\n",
    "        h_s = inputs\n",
    "        if debug_flag:\n",
    "            self.build(h_s.shape)\n",
    "        h_t = self.h_t(h_s)\n",
    "        if self.score == self.SCORE_LUONG:\n",
    "            # Luong's multiplicative style.\n",
    "            score = self.luong_dot([h_t, self.luong_w(h_s)])\n",
    "        else:\n",
    "            # Bahdanau's additive style.\n",
    "            self.bahdanau_w1(h_s)\n",
    "            a1 = self.bahdanau_w1(h_t)\n",
    "            a2 = self.bahdanau_w2(h_s)\n",
    "            a1 = self.bahdanau_repeat(a1)\n",
    "            score = self.bahdanau_tanh(self.bahdanau_add([a1, a2]))\n",
    "            score = self.bahdanau_v(score)\n",
    "            score = K.squeeze(score, axis=-1)\n",
    "\n",
    "        alpha_s = self.softmax_normalizer(score)\n",
    "        context_vector = self.dot_context([h_s, alpha_s])\n",
    "        a_t = self.w_c(self.concat_c_h([context_vector, h_t]))\n",
    "        return a_t\n",
    "\n",
    "    def get_config(self):\n",
    "        config = super(Attention, self).get_config()\n",
    "        config.update({'units': self.units, 'score': self.score})\n",
    "        return config"
   ]
  },
  {
   "cell_type": "code",
   "execution_count": null,
   "metadata": {},
   "outputs": [],
   "source": [
    "user = Usertest()"
   ]
  },
  {
   "cell_type": "markdown",
   "metadata": {},
   "source": [
    "==================================================================="
   ]
  },
  {
   "cell_type": "markdown",
   "metadata": {},
   "source": [
    "Once every codes above was runned, you can repeat the box below to test repeatly for users.\n",
    "-------------------------------------------------------------------------------------------\n",
    "Belew request for user input (text message), it will predict the emotion with the model.<br>\n",
    "The only thing you need to change is the file name for model. (e.g. 'trained_model_Sikai_20231020_1.keras')"
   ]
  },
  {
   "cell_type": "code",
   "execution_count": 19,
   "metadata": {},
   "outputs": [],
   "source": [
    "a = input(\"please input your words：\")\n",
    "user_inputs = [a]\n",
    "prediction = user.run(user_inputs,embeddings_index,'1trained_model_Sikai_20231020_1.h5')"
   ]
  },
  {
   "cell_type": "markdown",
   "metadata": {},
   "source": [
    "Below offers two ways for prediciton visualization: <br>\n",
    "1. Only showing one emotion with the biggest possiblity."
   ]
  },
  {
   "cell_type": "code",
   "execution_count": 20,
   "metadata": {},
   "outputs": [
    {
     "name": "stdout",
     "output_type": "stream",
     "text": [
      "For your message: 'i had a good time yesterday, hope to see you soon!'\n",
      "The most likely emotion is: joy\n"
     ]
    }
   ],
   "source": [
    "\n",
    "# Find the index of the largest value\n",
    "max_index = np.argmax(prediction)\n",
    "\n",
    "# Define a list of emotion tags\n",
    "emotion_labels = [\"anger\",\"fear\", \"joy\", \"sadness\", \"shame\"]\n",
    "\n",
    "# Find the corresponding emotional label\n",
    "predicted_emotion = emotion_labels[max_index]\n",
    "\n",
    "print(f\"For your message: '{a}'\")\n",
    "print(f\"The most likely emotion is: {predicted_emotion}\")"
   ]
  },
  {
   "cell_type": "markdown",
   "metadata": {},
   "source": [
    "2. I created a pie Chart to visulize the distrubution of emotions <br>\n",
    "Be aware that the percentage is only the possiblity of the prediction, it's not how much emotion the message has. <br>\n",
    "For example, if we have a prediciton with sad for 40% and joy for 50%, it only means the model think it is likely to be either joy or sad.<br>\n",
    "It does not mean the message has a combination emotions of both joy and sad."
   ]
  },
  {
   "cell_type": "code",
   "execution_count": 21,
   "metadata": {},
   "outputs": [
    {
     "data": {
      "image/png": "[encoded data removed]",
      "text/plain": [
       "<Figure size 640x480 with 1 Axes>"
      ]
     },
     "metadata": {},
     "output_type": "display_data"
    }
   ],
   "source": [
    "import matplotlib.pyplot as plt\n",
    "\n",
    "labels = [\"anger\",\"fear\",  \"joy\", \"sadness\", \"shame\"]\n",
    "colors = ['purple', 'green', 'orange', 'blue', 'red']\n",
    "\n",
    "# Creating Pie Charts\n",
    "plt.pie(prediction[0],  autopct='%d%%', startangle=140,colors=colors)\n",
    "\n",
    "\n",
    "\n",
    "title_text = f\"The prediction probability of\\n'{a}'\"\n",
    "plt.title(title_text)\n",
    "\n",
    "plt.legend(labels, loc='best')\n",
    "\n",
    "plt.show()"
   ]
  },
  {
   "cell_type": "markdown",
   "metadata": {},
   "source": []
  }
 ],
 "metadata": {
  "kernelspec": {
   "display_name": "Python 3",
   "language": "python",
   "name": "python3"
  },
  "language_info": {
   "codemirror_mode": {
    "name": "ipython",
    "version": 3
   },
   "file_extension": ".py",
   "mimetype": "text/x-python",
   "name": "python",
   "nbconvert_exporter": "python",
   "pygments_lexer": "ipython3",
   "version": "3.9.0"
  }
 },
 "nbformat": 4,
 "nbformat_minor": 2
}
