{
 "cells": [
  {
   "cell_type": "code",
   "execution_count": 1,
   "metadata": {},
   "outputs": [],
   "source": [
    "from nltk.tokenize import word_tokenize\n",
    "import numpy as np\n",
    "from tensorflow import keras"
   ]
  },
  {
   "cell_type": "markdown",
   "metadata": {},
   "source": [
    "Below is the import and define of GloVe, takes a while but once it's done we dont need to repeat it. <br>\n",
    "!!!!!!!!!!!!!!!!!!!!!!!!<br>Make sure your file address for this code contains \"glove.6B.50d.txt\"<br>\n",
    "If not, get it with Google Drive or https://nlp.stanford.edu/projects/glove/ \n"
   ]
  },
  {
   "cell_type": "code",
   "execution_count": 2,
   "metadata": {},
   "outputs": [],
   "source": [
    "def glove():\n",
    "    # Glove vector contains a 50 dimensional vector corresponding \n",
    "    # to each word in dictionary.\n",
    "    vocab_f = 'glove.6B.50d.txt'\n",
    " \n",
    "    # embeddings_index is a dictionary which contains the mapping of\n",
    "    # word with its corresponding 50d vector.\n",
    "    embeddings_index = {}\n",
    "    with open(vocab_f, encoding='utf8') as f:\n",
    "        for line in f:\n",
    "            # splitting each line of the glove.6B.50d in a list of \n",
    "            # items- in which the first element is the word to be embedded,\n",
    "            # and from second to the end of line contains the 50d vector.\n",
    "            values = line.rstrip().rsplit(' ')\n",
    "            word = values[0]\n",
    "            coefs = np.asarray(values[1:], dtype='float32')\n",
    "            embeddings_index[word] = coefs\n",
    "    return embeddings_index\n",
    "\n",
    "embeddings_index = glove()"
   ]
  },
  {
   "cell_type": "markdown",
   "metadata": {},
   "source": [
    "Define the processing of input and function for prediction, pretty much the same as the FirstCode_DBM140"
   ]
  },
  {
   "cell_type": "code",
   "execution_count": 3,
   "metadata": {},
   "outputs": [],
   "source": [
    "class Usertest:\n",
    "    def __init__(self):\n",
    "        self.user_input = []\n",
    "\n",
    "    def lower_texts(self,user_input):\n",
    "        # Each  sentence in feel_arr is tokenized by the help of work tokenizer.\n",
    "        # If I have a sentence - 'I am happy'. \n",
    "        # After word tokenizing it will convert into- ['I','am','happy']\n",
    "        lower_texts = [word_tokenize(sent.lower()) for sent in user_input]\n",
    "        return lower_texts\n",
    "    \n",
    "    def padding (self,lower_texts):\n",
    "        # Defined a function padd in which each sentence length is fixed to 200.\n",
    "        # If length is less than 200 , then the word- '<padd>' is append\n",
    "        def padd(arr):\n",
    "            for i in range(200-len(arr)):\n",
    "                arr.append('<pad>')\n",
    "            return arr[:200]\n",
    "        # call the padd function for each sentence in feel_arr\n",
    "        for i in range(len(lower_texts)):\n",
    "            lower_texts[i]=padd(lower_texts[i])\n",
    "        return lower_texts\n",
    "\n",
    "\n",
    "    def embedding (self,lower_texts,embeddings_index):\n",
    "        # Embedding each word of the feel_arr\n",
    "        embedding_texts = []\n",
    "        # Iterate through each sub-list (sentences)\n",
    "        for word_list in lower_texts:\n",
    "            # Initialize an empty list to store the embedding vectors for each word\n",
    "            word_vectors = []\n",
    "            for word in word_list:\n",
    "                if word in embeddings_index:\n",
    "                    word_vector = embeddings_index[word]\n",
    "                    word_vectors.append(word_vector)\n",
    "                else:\n",
    "                    # if the word to be embedded is '<padd>' append 0 fifty times\n",
    "                    word_vector = np.zeros(50, dtype='float32')\n",
    "                    word_vectors.append(word_vector)\n",
    "            embedding_texts.append(word_vectors)\n",
    "            X = np.array(embedding_texts)\n",
    "        return  X\n",
    "\n",
    "    def importmodel (self,path):\n",
    "        model = keras.models.load_model(path)\n",
    "        return model\n",
    "    \n",
    "    def predict (self,model,X):\n",
    "        prediction = model.predict(X,verbose=0)\n",
    "        return prediction\n",
    "    \n",
    "\n",
    "\n",
    "\n",
    "    def run(self,user_input,embeddings_index,path):\n",
    "        lower_texts = self.lower_texts(user_input)\n",
    "        lower_texts = self.padding(lower_texts)\n",
    "        X = self.embedding (lower_texts,embeddings_index)\n",
    "\n",
    "        model = self.importmodel (path)\n",
    "        prediction = self.predict(model,X)\n",
    "        return prediction\n",
    "\n",
    "\n",
    "    \n",
    "\n",
    "    "
   ]
  },
  {
   "cell_type": "markdown",
   "metadata": {},
   "source": [
    "!!!!!!!!!!!!!!!!!!!!<br>\n",
    "Below is the Code for attention layer only, if you dont have attention in the model you can skip this part<br>\n",
    "model with atttention layer is always ended in .keras, while rugular model ended with .h5<br>\n",
    "!!!!!!!!!!!!!!!!!!!!"
   ]
  },
  {
   "cell_type": "code",
   "execution_count": 4,
   "metadata": {},
   "outputs": [],
   "source": [
    "from tensorflow.keras.layers import Layer, Bidirectional, LSTM, Input, Dense\n",
    "import tensorflow as tf\n",
    "import numpy as np\n",
    "import tensorflow.keras.backend as K\n",
    "\n",
    "\n",
    "@keras.saving.register_keras_serializable()\n",
    "class Attention(Layer):\n",
    "    def __init__(self, attention_size, **kwargs):\n",
    "        self.attention_size = attention_size\n",
    "        super(Attention, self).__init__(**kwargs)\n",
    "\n",
    "    def build(self, input_shape):\n",
    "        # W: (EMBED_SIZE, ATTENTION_SIZE)\n",
    "        # b: (ATTENTION_SIZE, 1)\n",
    "        # u: (ATTENTION_SIZE, 1)\n",
    "        self.W = self.add_weight(name=\"W_{:s}\".format(self.name),\n",
    "                                 shape=(input_shape[-1], self.attention_size),\n",
    "                                 initializer=\"glorot_normal\",\n",
    "                                 trainable=True)\n",
    "        self.b = self.add_weight(name=\"b_{:s}\".format(self.name),\n",
    "                                 shape=(input_shape[1], 1),\n",
    "                                 initializer=\"zeros\",\n",
    "                                 trainable=True)\n",
    "        self.u = self.add_weight(name=\"u_{:s}\".format(self.name),\n",
    "                                 shape=(self.attention_size, 1),\n",
    "                                 initializer=\"glorot_normal\",\n",
    "                                 trainable=True)\n",
    "        super(Attention, self).build(input_shape)\n",
    "\n",
    "    def call(self, x, mask=None):\n",
    "        # input: (BATCH_SIZE, MAX_TIMESTEPS, EMBED_SIZE)\n",
    "        # et: (BATCH_SIZE, MAX_TIMESTEPS, ATTENTION_SIZE)\n",
    "        et = K.tanh(K.dot(x, self.W) + self.b)\n",
    "        # at: (BATCH_SIZE, MAX_TIMESTEPS)\n",
    "        at = K.softmax(K.squeeze(K.dot(et, self.u), axis=-1))\n",
    "        if mask is not None:\n",
    "            at *= K.cast(mask, K.floatx())\n",
    "        # ot: (BATCH_SIZE, MAX_TIMESTEPS, EMBED_SIZE)\n",
    "        atx = K.expand_dims(at, axis=-1)\n",
    "        ot = atx * x\n",
    "        # output: (BATCH_SIZE, EMBED_SIZE)\n",
    "        output = K.sum(ot, axis=1)\n",
    "        return output\n",
    "\n",
    "    def compute_mask(self, input, input_mask=None):\n",
    "        return None\n",
    "\n",
    "    def compute_output_shape(self, input_shape):\n",
    "        return (input_shape[0], input_shape[-1])"
   ]
  },
  {
   "cell_type": "code",
   "execution_count": 5,
   "metadata": {},
   "outputs": [],
   "source": [
    "user = Usertest()"
   ]
  },
  {
   "cell_type": "code",
   "execution_count": null,
   "metadata": {},
   "outputs": [],
   "source": []
  },
  {
   "cell_type": "markdown",
   "metadata": {},
   "source": [
    "==================================================================="
   ]
  },
  {
   "cell_type": "markdown",
   "metadata": {},
   "source": [
    "Once every codes above was runned, you can repeat the box below to test repeatly for users.\n",
    "-------------------------------------------------------------------------------------------\n",
    "Belew request for user input (text message), it will predict the emotion with the model.<br>\n",
    "The only thing you need to change is the file name for model. (e.g. 'trained_model_Sikai_20231020_1.keras')"
   ]
  },
  {
   "cell_type": "code",
   "execution_count": 6,
   "metadata": {},
   "outputs": [],
   "source": [
    "a = input(\"please input your words：\")\n",
    "user_inputs = [a]\n",
    "prediction = user.run(user_inputs,embeddings_index,'trained_model_Sikai_20231020_1.keras')"
   ]
  },
  {
   "cell_type": "markdown",
   "metadata": {},
   "source": [
    "Below offers two ways for prediciton visualization: <br>\n",
    "1. Only showing one emotion with the biggest possiblity."
   ]
  },
  {
   "cell_type": "code",
   "execution_count": 7,
   "metadata": {},
   "outputs": [
    {
     "name": "stdout",
     "output_type": "stream",
     "text": [
      "For your message: 'the weatehr is so annoying '\n",
      "The most likely emotion is: fear\n"
     ]
    }
   ],
   "source": [
    "\n",
    "# Find the index of the largest value\n",
    "max_index = np.argmax(prediction)\n",
    "\n",
    "# Define a list of emotion tags\n",
    "emotion_labels = [\"fear\", \"\", \"joy\", \"sadness\", \"shame\"]\n",
    "\n",
    "# Find the corresponding emotional label\n",
    "predicted_emotion = emotion_labels[max_index]\n",
    "\n",
    "print(f\"For your message: '{a}'\")\n",
    "print(f\"The most likely emotion is: {predicted_emotion}\")"
   ]
  },
  {
   "cell_type": "markdown",
   "metadata": {},
   "source": [
    "2. I created a pie Chart to visulize the distrubution of emotions <br>\n",
    "Be aware that the percentage is only the possiblity of the prediction, it's not how much emotion the message has. <br>\n",
    "For example, if we have a prediciton with sad for 40% and joy for 50%, it only means the model think it is likely to be either joy or sad.<br>\n",
    "It does not mean the message has a combination emotions of both joy and sad."
   ]
  },
  {
   "cell_type": "code",
   "execution_count": 8,
   "metadata": {},
   "outputs": [
    {
     "data": {
      "image/png": "[encoded data removed]",
      "text/plain": [
       "<Figure size 640x480 with 1 Axes>"
      ]
     },
     "metadata": {},
     "output_type": "display_data"
    }
   ],
   "source": [
    "import matplotlib.pyplot as plt\n",
    "\n",
    "labels = [\"fear\", \"anger\", \"joy\", \"sadness\", \"shame\"]\n",
    "colors = ['purple', 'green', 'orange', 'blue', 'red']\n",
    "\n",
    "# Creating Pie Charts\n",
    "plt.pie(prediction[0],  autopct='%d%%', startangle=140,colors=colors)\n",
    "\n",
    "\n",
    "\n",
    "title_text = f\"The prediction probability of\\n'{a}'\"\n",
    "plt.title(title_text)\n",
    "\n",
    "plt.legend(labels, loc='best')\n",
    "\n",
    "plt.show()"
   ]
  },
  {
   "cell_type": "markdown",
   "metadata": {},
   "source": []
  }
 ],
 "metadata": {
  "kernelspec": {
   "display_name": "Python 3",
   "language": "python",
   "name": "python3"
  },
  "language_info": {
   "codemirror_mode": {
    "name": "ipython",
    "version": 3
   },
   "file_extension": ".py",
   "mimetype": "text/x-python",
   "name": "python",
   "nbconvert_exporter": "python",
   "pygments_lexer": "ipython3",
   "version": "3.9.0"
  }
 },
 "nbformat": 4,
 "nbformat_minor": 2
}
