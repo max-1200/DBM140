{
 "cells": [
  {
   "cell_type": "code",
   "execution_count": 63,
   "metadata": {},
   "outputs": [],
   "source": [
    "# The following code is coppied and adapted from the following webpage:\n",
    "# https://www.geeksforgeeks.org/emotion-detection-using-bidirectional-lstm/\n",
    "# Addionally the attention layer is coppied and adapted from the following page:\n",
    "# https://github.com/philipperemy/keras-attention/tree/master"
   ]
  },
  {
   "cell_type": "code",
   "execution_count": 76,
   "metadata": {},
   "outputs": [
    {
     "name": "stderr",
     "output_type": "stream",
     "text": [
      "[nltk_data] Downloading package punkt to\n",
      "[nltk_data]     C:\\Users\\4K\\AppData\\Roaming\\nltk_data...\n",
      "[nltk_data]   Package punkt is already up-to-date!\n"
     ]
    },
    {
     "data": {
      "text/plain": [
       "True"
      ]
     },
     "execution_count": 76,
     "metadata": {},
     "output_type": "execute_result"
    }
   ],
   "source": [
    "# Importing the required libraries\n",
    "import keras\n",
    "import numpy as np\n",
    "from keras.models import Sequential,Model\n",
    "from keras.layers import Dense,Bidirectional\n",
    "from nltk.tokenize import word_tokenize,sent_tokenize\n",
    "from keras.layers import *\n",
    "from sklearn.model_selection import cross_val_score,train_test_split\n",
    "import nltk\n",
    "import pandas as pd\n",
    "import tensorflow as tf\n",
    "\n",
    "\n",
    "nltk.download('punkt')"
   ]
  },
  {
   "cell_type": "code",
   "execution_count": 2,
   "metadata": {},
   "outputs": [],
   "source": [
    "df = pd.read_csv('text_emotion_isear_edit2.csv', header=1)"
   ]
  },
  {
   "cell_type": "code",
   "execution_count": 3,
   "metadata": {},
   "outputs": [
    {
     "name": "stdout",
     "output_type": "stream",
     "text": [
      "EMOTION\n",
      "fear       1074\n",
      "sadness    1068\n",
      "anger      1062\n",
      "joy        1061\n",
      "shame      1060\n",
      "Name: count, dtype: int64\n"
     ]
    }
   ],
   "source": [
    "#Changed a bit as now we have a DataFrame\n",
    "df.drop(df[df['SIT'] == '[ No response.]'].index, inplace = True)\n",
    "#let's get rid of anger and disgust to have a try\n",
    "df = df[~df['EMOTION'].isin(['guilt', 'disgust'])]\n",
    "print (df['EMOTION'].value_counts() )\n",
    "\n",
    "number_emotions = df['EMOTION'].unique()"
   ]
  },
  {
   "cell_type": "code",
   "execution_count": 4,
   "metadata": {},
   "outputs": [
    {
     "name": "stdout",
     "output_type": "stream",
     "text": [
      "['this', 'is', 'an', 'event', 'i', 'will', 'never', 'forget', '.', 'i', 'am', 'considered', 'a', 'good', 'ã¡', 'mimic', '.', 'this', 'particular', 'day', 'we', 'were', 'waiting', 'for', 'a', 'professor', 'ã¡', 'to', 'take', 'her', 'class', '.', 'this', 'professor', 'had', 'a', 'peculiar', 'accent', 'and', 'a', 'ã¡', 'very', 'horrible', 'way', 'of', 'lecturing', 'and', 'to', 'top', 'it', 'all', 'we', 'had', 'this', 'ã¡', 'class', 'at', 'the', 'fag', 'end', 'of', 'the', 'day', '.', 'so', 'this', 'particular', 'day', 'i', 'got', 'ã¡', 'into', 'my', 'element', 'and', 'started', 'imitating', 'the', 'professor', ',', 'and', 'the', 'ã¡', 'professor', 'entered', 'the', 'class', 'right', 'in', 'the', 'middle', 'of', 'it', '.', 'i', 'was', 'ã¡', 'unaware', 'of', 'her', 'presence', ',', 'some', 'of', 'my', 'friends', 'tried', 'to', 'warn', 'me', 'but', 'ã¡', 'it', 'was', 'of', 'no', 'avail', 'as', 'i', 'was', 'too', 'engrossed', 'in', 'mimicing', '.', 'then', 'i', 'ã¡', 'suddenly', 'noticed', 'the', 'silence', 'and', 'turned', 'around', 'to', 'see', 'her', 'ã¡', 'entering', 'the', 'class', '.', 'i', 'do', 'not', 'know', 'till', 'today', 'if', 'she', 'actually', 'saw', 'ã¡', 'what', 'i', 'had', 'been', 'doing', 'or', 'she', 'had', 'completely', 'ignored', 'it', '.', 'through', 'ã¡', 'out', 'that', 'lecture', 'i', 'died', 'of', 'shame', '.', 'all', 'the', 'more', 'shameful', 'was', 'the', 'ã¡', 'fact', 'that', 'she', 'gave', 'me', 'a', 'character', 'certificate', '.']\n",
      "Sublist with the most elements: 192\n"
     ]
    }
   ],
   "source": [
    "\n",
    "#make all contexts (sentences) in dataset a list\n",
    "texts =df[\"SIT\"]\n",
    "\n",
    "#HIGHTLIGHT\n",
    "#Convert each text value to lowercase using the .str.lower() method\n",
    "lower_texts = texts.str.lower()\n",
    "\n",
    "# Each  sentence in feel_arr is tokenized by the help of work tokenizer.\n",
    "# If I have a sentence - 'I am happy'. \n",
    "# After word tokenizing it will convert into- ['I','am','happy']\n",
    "lower_texts = [word_tokenize(sent) for sent in lower_texts]\n",
    "\n",
    "#Now I added some codes to see how many words it has for the longest text\n",
    "longest_text = max(lower_texts, key=len)\n",
    "print (longest_text)\n",
    "print(\"Sublist with the most elements:\", len(longest_text))"
   ]
  },
  {
   "cell_type": "code",
   "execution_count": 5,
   "metadata": {},
   "outputs": [],
   "source": [
    "\n",
    "# Defined a function padd in which each sentence length is fixed to 200.\n",
    "# If length is less than 200 , then the word- '<padd>' is append\n",
    "def padd(arr):\n",
    "    for i in range(200-len(arr)):\n",
    "        arr.append('<pad>')\n",
    "    return arr[:200]\n",
    "   \n",
    "# call the padd function for each sentence in feel_arr\n",
    "for i in range(len(lower_texts)):\n",
    "    lower_texts[i]=padd(lower_texts[i])\n",
    " \n",
    "\n",
    "# Glove vector contains a 50 dimensional vector corresponding \n",
    "# to each word in dictionary.\n",
    "vocab_f = 'glove.6B.50d.txt'\n",
    " \n",
    "# embeddings_index is a dictionary which contains the mapping of\n",
    "# word with its corresponding 50d vector.\n",
    "embeddings_index = {}\n",
    "with open(vocab_f, encoding='utf8') as f:\n",
    "    for line in f:\n",
    "        # splitting each line of the glove.6B.50d in a list of \n",
    "        # items- in which the first element is the word to be embedded,\n",
    "        # and from second to the end of line contains the 50d vector.\n",
    "        values = line.rstrip().rsplit(' ')\n",
    "        word = values[0]\n",
    "        coefs = np.asarray(values[1:], dtype='float32')\n",
    "        embeddings_index[word] = coefs\n",
    "         \n",
    "# Embedding each word of the feel_arr\n",
    "embedding_texts = []\n",
    "# Iterate through each sub-list (sentences)\n",
    "for word_list in lower_texts:\n",
    "    # Initialize an empty list to store the embedding vectors for each word\n",
    "    word_vectors = []\n",
    "    for word in word_list:\n",
    "        if word in embeddings_index:\n",
    "            word_vector = embeddings_index[word]\n",
    "            word_vectors.append(word_vector)\n",
    "        else:\n",
    "            # if the word to be embedded is '<padd>' append 0 fifty times\n",
    "            word_vector = np.zeros(50, dtype='float32')\n",
    "            word_vectors.append(word_vector)\n",
    "    embedding_texts.append(word_vectors)\n"
   ]
  },
  {
   "cell_type": "code",
   "execution_count": 34,
   "metadata": {},
   "outputs": [
    {
     "ename": "KeyError",
     "evalue": "'EMOTION'",
     "output_type": "error",
     "traceback": [
      "\u001b[1;31m---------------------------------------------------------------------------\u001b[0m",
      "\u001b[1;31mKeyError\u001b[0m                                  Traceback (most recent call last)",
      "File \u001b[1;32me:\\python3.9\\lib\\site-packages\\pandas\\core\\indexes\\base.py:3790\u001b[0m, in \u001b[0;36mIndex.get_loc\u001b[1;34m(self, key)\u001b[0m\n\u001b[0;32m   3789\u001b[0m \u001b[39mtry\u001b[39;00m:\n\u001b[1;32m-> 3790\u001b[0m     \u001b[39mreturn\u001b[39;00m \u001b[39mself\u001b[39;49m\u001b[39m.\u001b[39;49m_engine\u001b[39m.\u001b[39;49mget_loc(casted_key)\n\u001b[0;32m   3791\u001b[0m \u001b[39mexcept\u001b[39;00m \u001b[39mKeyError\u001b[39;00m \u001b[39mas\u001b[39;00m err:\n",
      "File \u001b[1;32mindex.pyx:152\u001b[0m, in \u001b[0;36mpandas._libs.index.IndexEngine.get_loc\u001b[1;34m()\u001b[0m\n",
      "File \u001b[1;32mindex.pyx:181\u001b[0m, in \u001b[0;36mpandas._libs.index.IndexEngine.get_loc\u001b[1;34m()\u001b[0m\n",
      "File \u001b[1;32mpandas\\_libs\\hashtable_class_helper.pxi:7080\u001b[0m, in \u001b[0;36mpandas._libs.hashtable.PyObjectHashTable.get_item\u001b[1;34m()\u001b[0m\n",
      "File \u001b[1;32mpandas\\_libs\\hashtable_class_helper.pxi:7088\u001b[0m, in \u001b[0;36mpandas._libs.hashtable.PyObjectHashTable.get_item\u001b[1;34m()\u001b[0m\n",
      "\u001b[1;31mKeyError\u001b[0m: 'EMOTION'",
      "\nThe above exception was the direct cause of the following exception:\n",
      "\u001b[1;31mKeyError\u001b[0m                                  Traceback (most recent call last)",
      "\u001b[1;32mc:\\Users\\4K\\Documents\\GitHub\\DBM140\\AttentionLayer.ipynb Cell 7\u001b[0m line \u001b[0;36m6\n\u001b[0;32m      <a href='vscode-notebook-cell:/c%3A/Users/4K/Documents/GitHub/DBM140/AttentionLayer.ipynb#W6sZmlsZQ%3D%3D?line=1'>2</a>\u001b[0m X \u001b[39m=\u001b[39m np\u001b[39m.\u001b[39marray(embedding_texts)\n\u001b[0;32m      <a href='vscode-notebook-cell:/c%3A/Users/4K/Documents/GitHub/DBM140/AttentionLayer.ipynb#W6sZmlsZQ%3D%3D?line=3'>4</a>\u001b[0m \u001b[39m#One-Hot Encoding for all emotions, \u001b[39;00m\n\u001b[0;32m      <a href='vscode-notebook-cell:/c%3A/Users/4K/Documents/GitHub/DBM140/AttentionLayer.ipynb#W6sZmlsZQ%3D%3D?line=4'>5</a>\u001b[0m \u001b[39m#instead of just give them numbers, by doing so we will have seven outputs\u001b[39;00m\n\u001b[1;32m----> <a href='vscode-notebook-cell:/c%3A/Users/4K/Documents/GitHub/DBM140/AttentionLayer.ipynb#W6sZmlsZQ%3D%3D?line=5'>6</a>\u001b[0m Y \u001b[39m=\u001b[39m pd\u001b[39m.\u001b[39mget_dummies(df[\u001b[39m'\u001b[39;49m\u001b[39mEMOTION\u001b[39;49m\u001b[39m'\u001b[39;49m], prefix\u001b[39m=\u001b[39m\u001b[39m'\u001b[39m\u001b[39memotion\u001b[39m\u001b[39m'\u001b[39m)\n\u001b[0;32m      <a href='vscode-notebook-cell:/c%3A/Users/4K/Documents/GitHub/DBM140/AttentionLayer.ipynb#W6sZmlsZQ%3D%3D?line=7'>8</a>\u001b[0m \u001b[39m# Split into train and test\u001b[39;00m\n\u001b[0;32m      <a href='vscode-notebook-cell:/c%3A/Users/4K/Documents/GitHub/DBM140/AttentionLayer.ipynb#W6sZmlsZQ%3D%3D?line=8'>9</a>\u001b[0m X_train, X_test, Y_train, Y_test \u001b[39m=\u001b[39m train_test_split(X, Y,test_size\u001b[39m=\u001b[39m\u001b[39m0.2\u001b[39m,random_state\u001b[39m=\u001b[39m\u001b[39m2\u001b[39m)\n",
      "File \u001b[1;32me:\\python3.9\\lib\\site-packages\\pandas\\core\\frame.py:3896\u001b[0m, in \u001b[0;36mDataFrame.__getitem__\u001b[1;34m(self, key)\u001b[0m\n\u001b[0;32m   3894\u001b[0m \u001b[39mif\u001b[39;00m \u001b[39mself\u001b[39m\u001b[39m.\u001b[39mcolumns\u001b[39m.\u001b[39mnlevels \u001b[39m>\u001b[39m \u001b[39m1\u001b[39m:\n\u001b[0;32m   3895\u001b[0m     \u001b[39mreturn\u001b[39;00m \u001b[39mself\u001b[39m\u001b[39m.\u001b[39m_getitem_multilevel(key)\n\u001b[1;32m-> 3896\u001b[0m indexer \u001b[39m=\u001b[39m \u001b[39mself\u001b[39;49m\u001b[39m.\u001b[39;49mcolumns\u001b[39m.\u001b[39;49mget_loc(key)\n\u001b[0;32m   3897\u001b[0m \u001b[39mif\u001b[39;00m is_integer(indexer):\n\u001b[0;32m   3898\u001b[0m     indexer \u001b[39m=\u001b[39m [indexer]\n",
      "File \u001b[1;32me:\\python3.9\\lib\\site-packages\\pandas\\core\\indexes\\base.py:3797\u001b[0m, in \u001b[0;36mIndex.get_loc\u001b[1;34m(self, key)\u001b[0m\n\u001b[0;32m   3792\u001b[0m     \u001b[39mif\u001b[39;00m \u001b[39misinstance\u001b[39m(casted_key, \u001b[39mslice\u001b[39m) \u001b[39mor\u001b[39;00m (\n\u001b[0;32m   3793\u001b[0m         \u001b[39misinstance\u001b[39m(casted_key, abc\u001b[39m.\u001b[39mIterable)\n\u001b[0;32m   3794\u001b[0m         \u001b[39mand\u001b[39;00m \u001b[39many\u001b[39m(\u001b[39misinstance\u001b[39m(x, \u001b[39mslice\u001b[39m) \u001b[39mfor\u001b[39;00m x \u001b[39min\u001b[39;00m casted_key)\n\u001b[0;32m   3795\u001b[0m     ):\n\u001b[0;32m   3796\u001b[0m         \u001b[39mraise\u001b[39;00m InvalidIndexError(key)\n\u001b[1;32m-> 3797\u001b[0m     \u001b[39mraise\u001b[39;00m \u001b[39mKeyError\u001b[39;00m(key) \u001b[39mfrom\u001b[39;00m \u001b[39merr\u001b[39;00m\n\u001b[0;32m   3798\u001b[0m \u001b[39mexcept\u001b[39;00m \u001b[39mTypeError\u001b[39;00m:\n\u001b[0;32m   3799\u001b[0m     \u001b[39m# If we have a listlike key, _check_indexing_error will raise\u001b[39;00m\n\u001b[0;32m   3800\u001b[0m     \u001b[39m#  InvalidIndexError. Otherwise we fall through and re-raise\u001b[39;00m\n\u001b[0;32m   3801\u001b[0m     \u001b[39m#  the TypeError.\u001b[39;00m\n\u001b[0;32m   3802\u001b[0m     \u001b[39mself\u001b[39m\u001b[39m.\u001b[39m_check_indexing_error(key)\n",
      "\u001b[1;31mKeyError\u001b[0m: 'EMOTION'"
     ]
    }
   ],
   "source": [
    "#embeeding_texts cannot be a list, for the website he made it NumPy-array\n",
    "X = np.array(embedding_texts)\n",
    "\n",
    "#One-Hot Encoding for all emotions, \n",
    "#instead of just give them numbers, by doing so we will have seven outputs\n",
    "Y = pd.get_dummies(df['EMOTION'], prefix='emotion')\n",
    "\n",
    "# Split into train and test\n",
    "X_train, X_test, Y_train, Y_test = train_test_split(X, Y,test_size=0.2,random_state=2)"
   ]
  },
  {
   "cell_type": "code",
   "execution_count": 23,
   "metadata": {},
   "outputs": [
    {
     "data": {
      "text/plain": [
       "\"\\nclass BiLSTMModel:\\n    def __init__(self):\\n        self.model = Sequential()\\n        self.model.add(Input(shape=(200, 50)))\\n        \\n        self.model.add(Bidirectional(LSTM(64, input_shape=(200, 50))))\\n\\n        self.model.add(Dropout(0.2))\\n        \\n        self.model.add(Dense(5, activation='softmax'))\\n        self.model.compile(optimizer='Adam', loss='categorical_crossentropy', metrics=['accuracy'])\\n \\n    def fit(self, X, Y, epochs, batch_size,verbose):\\n        self.model.fit(X, Y, epochs=epochs, batch_size=batch_size,verbose=verbose)\\n \\n    def evaluate(self, X, Y, batch_size,verbose):\\n        return self.model.evaluate(X, Y, batch_size=batch_size,verbose=verbose)\\n \\n    def predict(self, X):\\n        return self.model.predict(X)\\n\""
      ]
     },
     "execution_count": 23,
     "metadata": {},
     "output_type": "execute_result"
    }
   ],
   "source": [
    "\"\"\"\n",
    "class BiLSTMModel:\n",
    "    def __init__(self):\n",
    "        self.model = Sequential()\n",
    "        self.model.add(Input(shape=(200, 50)))\n",
    "        \n",
    "        self.model.add(Bidirectional(LSTM(64, input_shape=(200, 50))))\n",
    "\n",
    "        self.model.add(Dropout(0.2))\n",
    "        \n",
    "        self.model.add(Dense(5, activation='softmax'))\n",
    "        self.model.compile(optimizer='Adam', loss='categorical_crossentropy', metrics=['accuracy'])\n",
    " \n",
    "    def fit(self, X, Y, epochs, batch_size,verbose):\n",
    "        self.model.fit(X, Y, epochs=epochs, batch_size=batch_size,verbose=verbose)\n",
    " \n",
    "    def evaluate(self, X, Y, batch_size,verbose):\n",
    "        return self.model.evaluate(X, Y, batch_size=batch_size,verbose=verbose)\n",
    " \n",
    "    def predict(self, X):\n",
    "        return self.model.predict(X)\n",
    "\"\"\"\n"
   ]
  },
  {
   "cell_type": "code",
   "execution_count": 66,
   "metadata": {},
   "outputs": [],
   "source": [
    "import os\n",
    "from tensorflow.keras import backend as K\n",
    "from tensorflow.keras.layers import Dense, Lambda, Dot, Activation, Concatenate, Layer, RepeatVector, Add\n",
    "\n",
    "\n",
    "# KERAS_ATTENTION_DEBUG: If set to 1. Will switch to debug mode.\n",
    "# In debug mode, the class Attention is no longer a Keras layer.\n",
    "# What it means in practice is that we can have access to the internal values\n",
    "# of each tensor. If we don't use debug, Keras treats the object\n",
    "# as a layer, and we can only get the final output.\n",
    "debug_flag = int(os.environ.get('KERAS_ATTENTION_DEBUG', 0))\n",
    "\n",
    "@keras.saving.register_keras_serializable()\n",
    "# References:\n",
    "# - https://arxiv.org/pdf/1508.04025.pdf (Luong).\n",
    "# - https://arxiv.org/pdf/1409.0473.pdf (Bahdanau).\n",
    "# - https://machinelearningmastery.com/the-bahdanau-attention-mechanism/ (Some more explanation).\n",
    "\n",
    "class Attention(object if debug_flag else Layer):\n",
    "    SCORE_LUONG = 'luong'\n",
    "    SCORE_BAHDANAU = 'bahdanau'\n",
    "\n",
    "    def __init__(self, units: int = 128, score: str = 'luong', **kwargs):\n",
    "        super(Attention, self).__init__(**kwargs)\n",
    "        if score not in {self.SCORE_LUONG, self.SCORE_BAHDANAU}:\n",
    "            raise ValueError(f'Possible values for score are: [{self.SCORE_LUONG}] and [{self.SCORE_BAHDANAU}].')\n",
    "        self.units = units\n",
    "        self.score = score\n",
    "\n",
    "    # noinspection PyAttributeOutsideInit\n",
    "    def build(self, input_shape):\n",
    "        input_dim = int(input_shape[-1])\n",
    "        with K.name_scope(self.name if not debug_flag else 'attention'):\n",
    "            # W in W*h_S.\n",
    "            if self.score == self.SCORE_LUONG:\n",
    "                self.luong_w = Dense(input_dim, use_bias=False, name='luong_w')\n",
    "                # dot : last hidden state H_t and every hidden state H_s.\n",
    "                self.luong_dot = Dot(axes=[1, 2], name='attention_score')\n",
    "            else:\n",
    "                # Dense implements the operation: output = activation(dot(input, kernel) + bias)\n",
    "                self.bahdanau_v = Dense(1, use_bias=False, name='bahdanau_v')\n",
    "                self.bahdanau_w1 = Dense(input_dim, use_bias=False, name='bahdanau_w1')\n",
    "                self.bahdanau_w2 = Dense(input_dim, use_bias=False, name='bahdanau_w2')\n",
    "                self.bahdanau_repeat = RepeatVector(input_shape[1])\n",
    "                self.bahdanau_tanh = Activation('tanh', name='bahdanau_tanh')\n",
    "                self.bahdanau_add = Add()\n",
    "\n",
    "            self.h_t = Lambda(lambda x: x[:, -1, :], output_shape=(input_dim,), name='last_hidden_state')\n",
    "\n",
    "            # exp / sum(exp) -> softmax.\n",
    "            self.softmax_normalizer = Activation('softmax', name='attention_weight')\n",
    "\n",
    "            # dot : score * every hidden state H_s.\n",
    "            # dot product. SUM(v1*v2). H_s = every source hidden state.\n",
    "            self.dot_context = Dot(axes=[1, 1], name='context_vector')\n",
    "\n",
    "            # [Ct; ht]\n",
    "            self.concat_c_h = Concatenate(name='attention_output')\n",
    "\n",
    "            # x -> tanh(w_c(x))\n",
    "            self.w_c = Dense(self.units, use_bias=False, activation='tanh', name='attention_vector')\n",
    "        if not debug_flag:\n",
    "            # debug: the call to build() is done in call().\n",
    "            super(Attention, self).build(input_shape)\n",
    "\n",
    "    def compute_output_shape(self, input_shape):\n",
    "        return input_shape[0], self.units\n",
    "\n",
    "    def __call__(self, inputs, training=None, **kwargs):\n",
    "        if debug_flag:\n",
    "            return self.call(inputs, training, **kwargs)\n",
    "        else:\n",
    "            return super(Attention, self).__call__(inputs, training, **kwargs)\n",
    "\n",
    "    # noinspection PyUnusedLocal\n",
    "    def call(self, inputs, training=None, **kwargs):\n",
    "        \"\"\"\n",
    "        Many-to-one attention mechanism for Keras. Supports:\n",
    "            - Luong's multiplicative style.\n",
    "            - Bahdanau's additive style.\n",
    "        @param inputs: 3D tensor with shape (batch_size, time_steps, input_dim).\n",
    "        @param training: not used in this layer.\n",
    "        @return: 2D tensor with shape (batch_size, units)\n",
    "        @author: philipperemy, felixhao28.\n",
    "        \"\"\"\n",
    "        h_s = inputs\n",
    "        if debug_flag:\n",
    "            self.build(h_s.shape)\n",
    "        h_t = self.h_t(h_s)\n",
    "        if self.score == self.SCORE_LUONG:\n",
    "            # Luong's multiplicative style.\n",
    "            score = self.luong_dot([h_t, self.luong_w(h_s)])\n",
    "        else:\n",
    "            # Bahdanau's additive style.\n",
    "            self.bahdanau_w1(h_s)\n",
    "            a1 = self.bahdanau_w1(h_t)\n",
    "            a2 = self.bahdanau_w2(h_s)\n",
    "            a1 = self.bahdanau_repeat(a1)\n",
    "            score = self.bahdanau_tanh(self.bahdanau_add([a1, a2]))\n",
    "            score = self.bahdanau_v(score)\n",
    "            score = K.squeeze(score, axis=-1)\n",
    "\n",
    "        alpha_s = self.softmax_normalizer(score)\n",
    "        context_vector = self.dot_context([h_s, alpha_s])\n",
    "        a_t = self.w_c(self.concat_c_h([context_vector, h_t]))\n",
    "        return a_t\n",
    "\n",
    "    def get_config(self):\n",
    "        config = super(Attention, self).get_config()\n",
    "        config.update({'units': self.units, 'score': self.score})\n",
    "        return config"
   ]
  },
  {
   "cell_type": "code",
   "execution_count": 67,
   "metadata": {},
   "outputs": [
    {
     "data": {
      "text/plain": [
       "'\\n@keras.saving.register_keras_serializable()\\nclass Attention(Layer):\\n    def __init__(self, attention_size, **kwargs):\\n        self.attention_size = attention_size\\n        super(Attention, self).__init__(**kwargs)\\n\\n    def build(self, input_shape):\\n        # W: (EMBED_SIZE, ATTENTION_SIZE)\\n        # b: (ATTENTION_SIZE, 1)\\n        # u: (ATTENTION_SIZE, 1)\\n        self.W = self.add_weight(name=\"W_{:s}\".format(self.name),\\n                                 shape=(input_shape[-1], self.attention_size),\\n                                 initializer=\"glorot_normal\",\\n                                 trainable=True)\\n        self.b = self.add_weight(name=\"b_{:s}\".format(self.name),\\n                                 shape=(input_shape[1], 1),\\n                                 initializer=\"zeros\",\\n                                 trainable=True)\\n        self.u = self.add_weight(name=\"u_{:s}\".format(self.name),\\n                                 shape=(self.attention_size, 1),\\n                                 initializer=\"glorot_normal\",\\n                                 trainable=True)\\n        super(Attention, self).build(input_shape)\\n\\n    def call(self, x, mask=None):\\n        # input: (BATCH_SIZE, MAX_TIMESTEPS, EMBED_SIZE)\\n        # et: (BATCH_SIZE, MAX_TIMESTEPS, ATTENTION_SIZE)\\n        et = K.tanh(K.dot(x, self.W) + self.b)\\n        # at: (BATCH_SIZE, MAX_TIMESTEPS)\\n        at = K.softmax(K.squeeze(K.dot(et, self.u), axis=-1))\\n        if mask is not None:\\n            at *= K.cast(mask, K.floatx())\\n        # ot: (BATCH_SIZE, MAX_TIMESTEPS, EMBED_SIZE)\\n        atx = K.expand_dims(at, axis=-1)\\n        ot = atx * x\\n        # output: (BATCH_SIZE, EMBED_SIZE)\\n        output = K.sum(ot, axis=1)\\n        return output\\n\\n    def compute_mask(self, input, input_mask=None):\\n        return None\\n\\n    def compute_output_shape(self, input_shape):\\n        return (input_shape[0], input_shape[-1])\\n'"
      ]
     },
     "execution_count": 67,
     "metadata": {},
     "output_type": "execute_result"
    }
   ],
   "source": [
    "'''\n",
    "@keras.saving.register_keras_serializable()\n",
    "class Attention(Layer):\n",
    "    def __init__(self, attention_size, **kwargs):\n",
    "        self.attention_size = attention_size\n",
    "        super(Attention, self).__init__(**kwargs)\n",
    "\n",
    "    def build(self, input_shape):\n",
    "        # W: (EMBED_SIZE, ATTENTION_SIZE)\n",
    "        # b: (ATTENTION_SIZE, 1)\n",
    "        # u: (ATTENTION_SIZE, 1)\n",
    "        self.W = self.add_weight(name=\"W_{:s}\".format(self.name),\n",
    "                                 shape=(input_shape[-1], self.attention_size),\n",
    "                                 initializer=\"glorot_normal\",\n",
    "                                 trainable=True)\n",
    "        self.b = self.add_weight(name=\"b_{:s}\".format(self.name),\n",
    "                                 shape=(input_shape[1], 1),\n",
    "                                 initializer=\"zeros\",\n",
    "                                 trainable=True)\n",
    "        self.u = self.add_weight(name=\"u_{:s}\".format(self.name),\n",
    "                                 shape=(self.attention_size, 1),\n",
    "                                 initializer=\"glorot_normal\",\n",
    "                                 trainable=True)\n",
    "        super(Attention, self).build(input_shape)\n",
    "\n",
    "    def call(self, x, mask=None):\n",
    "        # input: (BATCH_SIZE, MAX_TIMESTEPS, EMBED_SIZE)\n",
    "        # et: (BATCH_SIZE, MAX_TIMESTEPS, ATTENTION_SIZE)\n",
    "        et = K.tanh(K.dot(x, self.W) + self.b)\n",
    "        # at: (BATCH_SIZE, MAX_TIMESTEPS)\n",
    "        at = K.softmax(K.squeeze(K.dot(et, self.u), axis=-1))\n",
    "        if mask is not None:\n",
    "            at *= K.cast(mask, K.floatx())\n",
    "        # ot: (BATCH_SIZE, MAX_TIMESTEPS, EMBED_SIZE)\n",
    "        atx = K.expand_dims(at, axis=-1)\n",
    "        ot = atx * x\n",
    "        # output: (BATCH_SIZE, EMBED_SIZE)\n",
    "        output = K.sum(ot, axis=1)\n",
    "        return output\n",
    "\n",
    "    def compute_mask(self, input, input_mask=None):\n",
    "        return None\n",
    "\n",
    "    def compute_output_shape(self, input_shape):\n",
    "        return (input_shape[0], input_shape[-1])\n",
    "'''"
   ]
  },
  {
   "cell_type": "code",
   "execution_count": 68,
   "metadata": {},
   "outputs": [],
   "source": [
    "from tensorflow.keras.layers import Layer, Bidirectional, LSTM, Input, Dense, Dropout\n",
    "import tensorflow as tf\n",
    "import numpy as np\n",
    "import tensorflow.keras.backend as K\n",
    "\n",
    "\n",
    "\n",
    "\n",
    "input_layer = Input(shape=(200, 50))\n",
    "\n",
    "# Creating a Bidirectional LSTM layer\n",
    "lstm_layer = Bidirectional(LSTM(64, return_sequences=True))(input_layer)\n",
    "\n",
    "# Creating an Attention Layer\n",
    "attention = Attention(units=128)(lstm_layer)\n",
    "\n",
    "# Add a Dropout Layer after the Attention Layer.\n",
    "dropout_layer = Dropout(0.2)(attention)  # The 0.2 here represents the dropout rate\n",
    "\n",
    "# Adding other layers after the attention layer, e.g., a fully connected layer\n",
    "output_layer = tf.keras.layers.Dense(5, activation=\"softmax\")(attention)\n",
    "\n",
    "\n",
    "# 创建模型\n",
    "model = tf.keras.Model(inputs=input_layer, outputs=output_layer)\n",
    "\n",
    "model.compile(optimizer=\"adam\", loss=\"categorical_crossentropy\", metrics=[\"accuracy\"])\n"
   ]
  },
  {
   "cell_type": "code",
   "execution_count": 69,
   "metadata": {},
   "outputs": [
    {
     "name": "stdout",
     "output_type": "stream",
     "text": [
      "Model: \"model_12\"\n",
      "_________________________________________________________________\n",
      " Layer (type)                Output Shape              Param #   \n",
      "=================================================================\n",
      " input_13 (InputLayer)       [(None, 200, 50)]         0         \n",
      "                                                                 \n",
      " bidirectional_12 (Bidirect  (None, 200, 128)          58880     \n",
      " ional)                                                          \n",
      "                                                                 \n",
      " attention_12 (Attention)    (None, 128)               49152     \n",
      "                                                                 \n",
      " dense_12 (Dense)            (None, 5)                 645       \n",
      "                                                                 \n",
      "=================================================================\n",
      "Total params: 108677 (424.52 KB)\n",
      "Trainable params: 108677 (424.52 KB)\n",
      "Non-trainable params: 0 (0.00 Byte)\n",
      "_________________________________________________________________\n"
     ]
    }
   ],
   "source": [
    "#model = BiLSTMModel()\n",
    "# Take a look of the model layers summarry\n",
    "model.summary()"
   ]
  },
  {
   "cell_type": "code",
   "execution_count": 37,
   "metadata": {},
   "outputs": [],
   "source": [
    "class BiLSTMModel:\n",
    "    def __init__(self):\n",
    "        self.model = Sequential()\n",
    "        self.model.add(Input(shape=(200, 50)))\n",
    "        \n",
    "        self.model.add(Bidirectional(LSTM(64, input_shape=(200, 50))))\n",
    "\n",
    "        self.model.add(Dropout(0.2))\n",
    "        \n",
    "        self.model.add(Dense(5, activation='softmax'))\n",
    "        self.model.compile(optimizer='Adam', loss='categorical_crossentropy', metrics=['accuracy'])\n",
    " \n",
    "    def fit(self, X, Y, epochs, batch_size,verbose):\n",
    "        self.model.fit(X, Y, epochs=epochs, batch_size=batch_size,verbose=verbose)\n",
    " \n",
    "    def evaluate(self, X, Y, batch_size,verbose):\n",
    "        return self.model.evaluate(X, Y, batch_size=batch_size,verbose=verbose)\n",
    " \n",
    "    def predict(self, X):\n",
    "        return self.model.predict(X)"
   ]
  },
  {
   "cell_type": "code",
   "execution_count": 58,
   "metadata": {},
   "outputs": [
    {
     "name": "stdout",
     "output_type": "stream",
     "text": [
      "Epoch 1/7\n",
      "267/267 [==============================] - 13s 39ms/step - loss: 1.4050 - accuracy: 0.3883\n",
      "Epoch 2/7\n",
      "267/267 [==============================] - 10s 38ms/step - loss: 1.0445 - accuracy: 0.5995\n",
      "Epoch 3/7\n",
      "267/267 [==============================] - 10s 38ms/step - loss: 0.9565 - accuracy: 0.6237\n",
      "Epoch 4/7\n",
      "267/267 [==============================] - 10s 38ms/step - loss: 0.8905 - accuracy: 0.6521\n",
      "Epoch 5/7\n",
      "267/267 [==============================] - 10s 39ms/step - loss: 0.8382 - accuracy: 0.6695\n",
      "Epoch 6/7\n",
      "267/267 [==============================] - 10s 38ms/step - loss: 0.7843 - accuracy: 0.7035\n",
      "Epoch 7/7\n",
      "267/267 [==============================] - 10s 38ms/step - loss: 0.7334 - accuracy: 0.7185\n"
     ]
    },
    {
     "data": {
      "text/plain": [
       "<keras.src.callbacks.History at 0x1c62c71c730>"
      ]
     },
     "execution_count": 58,
     "metadata": {},
     "output_type": "execute_result"
    }
   ],
   "source": [
    "# fit the model on the input and target data\n",
    "model.fit(X_train,Y_train, epochs=7, batch_size=16,verbose=1)"
   ]
  },
  {
   "cell_type": "code",
   "execution_count": 59,
   "metadata": {},
   "outputs": [
    {
     "name": "stdout",
     "output_type": "stream",
     "text": [
      "Loss: 0.9697664380073547\n",
      "Accuracy: 0.65727698802948\n"
     ]
    }
   ],
   "source": [
    "#now we can check the performance of the model with the testing sets\n",
    "loss,accuracy = model.evaluate(X_test, Y_test, 16,verbose = 0)\n",
    "print(\"Loss:\", loss)\n",
    "print(\"Accuracy:\", accuracy)"
   ]
  },
  {
   "cell_type": "code",
   "execution_count": 70,
   "metadata": {},
   "outputs": [
    {
     "name": "stdout",
     "output_type": "stream",
     "text": [
      "Epoch 1/15\n",
      "Train Accuracy: 0.3408, Test Accuracy: 0.4141\n",
      "Epoch 2/15\n",
      "Train Accuracy: 0.5481, Test Accuracy: 0.5934\n",
      "Epoch 3/15\n",
      "Train Accuracy: 0.6141, Test Accuracy: 0.6075\n",
      "Epoch 4/15\n",
      "Train Accuracy: 0.6545, Test Accuracy: 0.6488\n",
      "Epoch 5/15\n",
      "Train Accuracy: 0.6791, Test Accuracy: 0.6667\n",
      "Epoch 6/15\n",
      "Train Accuracy: 0.6941, Test Accuracy: 0.6620\n",
      "Epoch 7/15\n",
      "Train Accuracy: 0.7129, Test Accuracy: 0.6516\n",
      "Epoch 8/15\n",
      "Train Accuracy: 0.7387, Test Accuracy: 0.6667\n",
      "Epoch 9/15\n",
      "Train Accuracy: 0.7678, Test Accuracy: 0.6488\n",
      "Epoch 10/15\n",
      "Train Accuracy: 0.7869, Test Accuracy: 0.6751\n",
      "Epoch 11/15\n",
      "Train Accuracy: 0.8052, Test Accuracy: 0.6723\n",
      "Epoch 12/15\n",
      "Train Accuracy: 0.8265, Test Accuracy: 0.6460\n",
      "Epoch 13/15\n",
      "Train Accuracy: 0.8509, Test Accuracy: 0.6451\n",
      "Epoch 14/15\n",
      "Train Accuracy: 0.8669, Test Accuracy: 0.6460\n",
      "Epoch 15/15\n",
      "Train Accuracy: 0.8845, Test Accuracy: 0.6404\n"
     ]
    }
   ],
   "source": [
    "# Define the number of training epochs and batch size\n",
    "epochs = 15\n",
    "batch_size = 16\n",
    "\n",
    "# Create empty lists to store training and test accuracy\n",
    "train_accuracy_history = []\n",
    "test_accuracy_history = []\n",
    "\n",
    "for epoch in range(epochs):\n",
    "    # Train the model for one epoch\n",
    "    history = model.fit(X_train,Y_train, epochs=1, batch_size=16,verbose=0)\n",
    "    # Calculate training accuracy\n",
    "    train_accuracy = history.history['accuracy'][0]\n",
    "    train_accuracy_history.append(train_accuracy)\n",
    "\n",
    "    # Evaluate the model on the test set\n",
    "    test_loss, test_accuracy = model.evaluate(X_test, Y_test, batch_size=batch_size, verbose=0)\n",
    "    test_accuracy_history.append(test_accuracy)\n",
    "\n",
    "    print(f'Epoch {epoch + 1}/{epochs}')\n",
    "    print(f'Train Accuracy: {train_accuracy:.4f}, Test Accuracy: {test_accuracy:.4f}')\n"
   ]
  },
  {
   "cell_type": "code",
   "execution_count": 71,
   "metadata": {},
   "outputs": [
    {
     "data": {
      "text/plain": [
       "<matplotlib.legend.Legend at 0x1c61411af10>"
      ]
     },
     "execution_count": 71,
     "metadata": {},
     "output_type": "execute_result"
    },
    {
     "data": {
      "image/png": "[encoded data removed]",
      "text/plain": [
       "<Figure size 640x480 with 1 Axes>"
      ]
     },
     "metadata": {},
     "output_type": "display_data"
    }
   ],
   "source": [
    "import matplotlib.pyplot as plt\n",
    "\n",
    "\n",
    "# set for x axis range\n",
    "epochs_range = range(1, epochs + 1)\n",
    "\n",
    "# Plot line graphs of training accuracies and test accuracies\n",
    "plt.plot(epochs_range, train_accuracy_history, label=\"Training Accuracy\")\n",
    "plt.plot(epochs_range, test_accuracy_history, label=\"Test Accuracy\")\n",
    "\n",
    "# Add title and tags\n",
    "plt.title(\"Training and Test Accuracy Over Epochs\")\n",
    "plt.xlabel(\"Epochs\")\n",
    "plt.ylabel(\"Accuracy\")\n",
    "\n",
    "# add Legend\n",
    "plt.legend()\n"
   ]
  },
  {
   "cell_type": "code",
   "execution_count": 18,
   "metadata": {},
   "outputs": [
    {
     "data": {
      "text/html": [
       "<div>\n",
       "<style scoped>\n",
       "    .dataframe tbody tr th:only-of-type {\n",
       "        vertical-align: middle;\n",
       "    }\n",
       "\n",
       "    .dataframe tbody tr th {\n",
       "        vertical-align: top;\n",
       "    }\n",
       "\n",
       "    .dataframe thead th {\n",
       "        text-align: right;\n",
       "    }\n",
       "</style>\n",
       "<table border=\"1\" class=\"dataframe\">\n",
       "  <thead>\n",
       "    <tr style=\"text-align: right;\">\n",
       "      <th></th>\n",
       "      <th>emotion_anger</th>\n",
       "      <th>emotion_fear</th>\n",
       "      <th>emotion_joy</th>\n",
       "      <th>emotion_sadness</th>\n",
       "      <th>emotion_shame</th>\n",
       "    </tr>\n",
       "  </thead>\n",
       "  <tbody>\n",
       "    <tr>\n",
       "      <th>1144</th>\n",
       "      <td>True</td>\n",
       "      <td>False</td>\n",
       "      <td>False</td>\n",
       "      <td>False</td>\n",
       "      <td>False</td>\n",
       "    </tr>\n",
       "    <tr>\n",
       "      <th>7106</th>\n",
       "      <td>False</td>\n",
       "      <td>False</td>\n",
       "      <td>False</td>\n",
       "      <td>False</td>\n",
       "      <td>True</td>\n",
       "    </tr>\n",
       "    <tr>\n",
       "      <th>296</th>\n",
       "      <td>True</td>\n",
       "      <td>False</td>\n",
       "      <td>False</td>\n",
       "      <td>False</td>\n",
       "      <td>False</td>\n",
       "    </tr>\n",
       "    <tr>\n",
       "      <th>3</th>\n",
       "      <td>False</td>\n",
       "      <td>False</td>\n",
       "      <td>False</td>\n",
       "      <td>True</td>\n",
       "      <td>False</td>\n",
       "    </tr>\n",
       "    <tr>\n",
       "      <th>1313</th>\n",
       "      <td>False</td>\n",
       "      <td>False</td>\n",
       "      <td>False</td>\n",
       "      <td>False</td>\n",
       "      <td>True</td>\n",
       "    </tr>\n",
       "    <tr>\n",
       "      <th>...</th>\n",
       "      <td>...</td>\n",
       "      <td>...</td>\n",
       "      <td>...</td>\n",
       "      <td>...</td>\n",
       "      <td>...</td>\n",
       "    </tr>\n",
       "    <tr>\n",
       "      <th>6022</th>\n",
       "      <td>False</td>\n",
       "      <td>False</td>\n",
       "      <td>False</td>\n",
       "      <td>False</td>\n",
       "      <td>True</td>\n",
       "    </tr>\n",
       "    <tr>\n",
       "      <th>2962</th>\n",
       "      <td>False</td>\n",
       "      <td>False</td>\n",
       "      <td>False</td>\n",
       "      <td>False</td>\n",
       "      <td>True</td>\n",
       "    </tr>\n",
       "    <tr>\n",
       "      <th>3721</th>\n",
       "      <td>False</td>\n",
       "      <td>True</td>\n",
       "      <td>False</td>\n",
       "      <td>False</td>\n",
       "      <td>False</td>\n",
       "    </tr>\n",
       "    <tr>\n",
       "      <th>1035</th>\n",
       "      <td>False</td>\n",
       "      <td>True</td>\n",
       "      <td>False</td>\n",
       "      <td>False</td>\n",
       "      <td>False</td>\n",
       "    </tr>\n",
       "    <tr>\n",
       "      <th>4032</th>\n",
       "      <td>False</td>\n",
       "      <td>False</td>\n",
       "      <td>True</td>\n",
       "      <td>False</td>\n",
       "      <td>False</td>\n",
       "    </tr>\n",
       "  </tbody>\n",
       "</table>\n",
       "<p>1065 rows × 5 columns</p>\n",
       "</div>"
      ],
      "text/plain": [
       "      emotion_anger  emotion_fear  emotion_joy  emotion_sadness  emotion_shame\n",
       "1144           True         False        False            False          False\n",
       "7106          False         False        False            False           True\n",
       "296            True         False        False            False          False\n",
       "3             False         False        False             True          False\n",
       "1313          False         False        False            False           True\n",
       "...             ...           ...          ...              ...            ...\n",
       "6022          False         False        False            False           True\n",
       "2962          False         False        False            False           True\n",
       "3721          False          True        False            False          False\n",
       "1035          False          True        False            False          False\n",
       "4032          False         False         True            False          False\n",
       "\n",
       "[1065 rows x 5 columns]"
      ]
     },
     "execution_count": 18,
     "metadata": {},
     "output_type": "execute_result"
    }
   ],
   "source": [
    "Y_test"
   ]
  },
  {
   "cell_type": "code",
   "execution_count": 72,
   "metadata": {},
   "outputs": [
    {
     "name": "stdout",
     "output_type": "stream",
     "text": [
      "34/34 [==============================] - 1s 18ms/step\n",
      "Accuracy (Emotion 0): 0.66\n",
      "Accuracy (Emotion 1): 0.68\n",
      "Accuracy (Emotion 2): 0.71\n",
      "Accuracy (Emotion 3): 0.65\n",
      "Accuracy (Emotion 4): 0.52\n"
     ]
    }
   ],
   "source": [
    "# Prediction using models\n",
    "predictions = model.predict(X_test)\n",
    "\n",
    "# Initialize a dictionary to store the number of correct predictions and the total number of correct predictions for each sentiment classification\n",
    "accuracy_dict = {0: [0, 0], 1: [0, 0], 2: [0, 0], 3: [0, 0], 4: [0, 0]}\n",
    "\n",
    "\n",
    "predicted_labels = np.argmax(predictions, axis=1)\n",
    "\n",
    "true_labels = []\n",
    "for index, row in Y_test.iterrows():\n",
    "    true_label_index = np.argmax(row.to_numpy())  # Index for finding the sentiment classification with the highest probability\n",
    "    true_labels.append(true_label_index)\n",
    "\n",
    "true_labels = np.array(true_labels)\n",
    "\n",
    "# Iterate over test data and labels to calculate accuracy\n",
    "for i in range(len(X_test)):\n",
    "    true_label = true_labels [i]\n",
    "    predicted_label = predicted_labels[i]\n",
    "    accuracy_dict[true_label][1] += 1  \n",
    "    if true_label == predicted_label:\n",
    "        accuracy_dict[true_label][0] += 1  \n",
    "\n",
    "# Calculate accuracy for each sentiment classification and print the results\n",
    "for emotion, [correct, total] in accuracy_dict.items():\n",
    "    if total > 0:\n",
    "        accuracy = correct / total\n",
    "        print(f\"Accuracy (Emotion {emotion}): {accuracy:.2f}\")\n",
    "    else:\n",
    "        print(f\"No test data for Emotion {emotion}\")"
   ]
  },
  {
   "cell_type": "code",
   "execution_count": 73,
   "metadata": {},
   "outputs": [],
   "source": [
    "# make it a DataFrame\n",
    "merged_train_accuracy_history = df = pd.DataFrame({\n",
    "    'train_accuracy_history': train_accuracy_history,\n",
    "    'test_accuracy_history': test_accuracy_history\n",
    "})\n",
    "\n",
    "\n",
    "# Export data to CSV file\n",
    "file_name = f\"SK_accuracy_epochs_{epochs}_batch_{batch_size}.csv\"\n",
    "df.to_csv(file_name, index=False)"
   ]
  },
  {
   "cell_type": "code",
   "execution_count": 75,
   "metadata": {},
   "outputs": [],
   "source": [
    "#Uncomment this piece of code if you want to save the model \n",
    "\n",
    "model.save('1trained_model_Sikai_20231020_1.h5')  # creates a HDF5 file 'xxxxx.h5'\n",
    "#del model  # deletes the existing model\n",
    "    \n",
    "#returns a compiled model\n",
    "#identical to the previous one\n",
    "#model = load_model('')"
   ]
  }
 ],
 "metadata": {
  "kernelspec": {
   "display_name": "Python 3",
   "language": "python",
   "name": "python3"
  },
  "language_info": {
   "codemirror_mode": {
    "name": "ipython",
    "version": 3
   },
   "file_extension": ".py",
   "mimetype": "text/x-python",
   "name": "python",
   "nbconvert_exporter": "python",
   "pygments_lexer": "ipython3",
   "version": "3.9.0"
  }
 },
 "nbformat": 4,
 "nbformat_minor": 2
}
